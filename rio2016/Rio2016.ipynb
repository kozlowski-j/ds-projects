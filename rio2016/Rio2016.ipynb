{
 "cells": [
  {
   "cell_type": "markdown",
   "metadata": {},
   "source": [
    "## Import packages"
   ]
  },
  {
   "cell_type": "code",
   "execution_count": 1,
   "metadata": {},
   "outputs": [
    {
     "data": {
      "text/html": [
       "<script>requirejs.config({paths: { 'plotly': ['https://cdn.plot.ly/plotly-latest.min']},});if(!window.Plotly) {{require(['plotly'],function(plotly) {window.Plotly=plotly;});}}</script>"
      ],
      "text/vnd.plotly.v1+html": [
       "<script>requirejs.config({paths: { 'plotly': ['https://cdn.plot.ly/plotly-latest.min']},});if(!window.Plotly) {{require(['plotly'],function(plotly) {window.Plotly=plotly;});}}</script>"
      ]
     },
     "metadata": {},
     "output_type": "display_data"
    },
    {
     "name": "stderr",
     "output_type": "stream",
     "text": [
      "C:\\Users\\jp_ko\\Anaconda3\\lib\\site-packages\\sklearn\\externals\\six.py:31: FutureWarning:\n",
      "\n",
      "The module is deprecated in version 0.21 and will be removed in version 0.23 since we've dropped support for Python 2.7. Please rely on the official version of six (https://pypi.org/project/six/).\n",
      "\n",
      "C:\\Users\\jp_ko\\Anaconda3\\lib\\site-packages\\sklearn\\utils\\deprecation.py:144: FutureWarning:\n",
      "\n",
      "The sklearn.neighbors.base module is  deprecated in version 0.22 and will be removed in version 0.24. The corresponding classes / functions should instead be imported from sklearn.neighbors. Anything that cannot be imported from sklearn.neighbors is now part of the private API.\n",
      "\n"
     ]
    }
   ],
   "source": [
    "import numpy as np\n",
    "import pandas as pd\n",
    "import matplotlib.pyplot as plt\n",
    "import matplotlib\n",
    "matplotlib.style.use('fivethirtyeight')\n",
    "from time import time\n",
    "%matplotlib inline\n",
    "import seaborn as sns\n",
    "import plotly.graph_objs as go \n",
    "from plotly.offline import init_notebook_mode,iplot,plot\n",
    "init_notebook_mode(connected=True)\n",
    "\n",
    "from sklearn.model_selection import GridSearchCV\n",
    "from sklearn.preprocessing import StandardScaler\n",
    "from sklearn.model_selection import train_test_split\n",
    "from sklearn.svm import SVC\n",
    "from sklearn.ensemble import GradientBoostingClassifier\n",
    "from imblearn.under_sampling import RandomUnderSampler\n",
    "from imblearn.over_sampling import SMOTE"
   ]
  },
  {
   "cell_type": "markdown",
   "metadata": {},
   "source": [
    "## 0. Get data ready\n",
    "\n",
    "Import data and drop NA's, because I don't want to play in imputation of missing data this time."
   ]
  },
  {
   "cell_type": "code",
   "execution_count": 2,
   "metadata": {},
   "outputs": [
    {
     "data": {
      "text/html": [
       "<div>\n",
       "<style scoped>\n",
       "    .dataframe tbody tr th:only-of-type {\n",
       "        vertical-align: middle;\n",
       "    }\n",
       "\n",
       "    .dataframe tbody tr th {\n",
       "        vertical-align: top;\n",
       "    }\n",
       "\n",
       "    .dataframe thead th {\n",
       "        text-align: right;\n",
       "    }\n",
       "</style>\n",
       "<table border=\"1\" class=\"dataframe\">\n",
       "  <thead>\n",
       "    <tr style=\"text-align: right;\">\n",
       "      <th></th>\n",
       "      <th>name</th>\n",
       "      <th>nationality</th>\n",
       "      <th>sex</th>\n",
       "      <th>dob</th>\n",
       "      <th>height</th>\n",
       "      <th>weight</th>\n",
       "      <th>sport</th>\n",
       "      <th>gold</th>\n",
       "      <th>silver</th>\n",
       "      <th>bronze</th>\n",
       "    </tr>\n",
       "    <tr>\n",
       "      <th>id</th>\n",
       "      <th></th>\n",
       "      <th></th>\n",
       "      <th></th>\n",
       "      <th></th>\n",
       "      <th></th>\n",
       "      <th></th>\n",
       "      <th></th>\n",
       "      <th></th>\n",
       "      <th></th>\n",
       "      <th></th>\n",
       "    </tr>\n",
       "  </thead>\n",
       "  <tbody>\n",
       "    <tr>\n",
       "      <th>736041664</th>\n",
       "      <td>A Jesus Garcia</td>\n",
       "      <td>ESP</td>\n",
       "      <td>male</td>\n",
       "      <td>2069-10-17</td>\n",
       "      <td>1.72</td>\n",
       "      <td>64.0</td>\n",
       "      <td>athletics</td>\n",
       "      <td>0</td>\n",
       "      <td>0</td>\n",
       "      <td>0</td>\n",
       "    </tr>\n",
       "    <tr>\n",
       "      <th>532037425</th>\n",
       "      <td>A Lam Shin</td>\n",
       "      <td>KOR</td>\n",
       "      <td>female</td>\n",
       "      <td>1986-09-23</td>\n",
       "      <td>1.68</td>\n",
       "      <td>56.0</td>\n",
       "      <td>fencing</td>\n",
       "      <td>0</td>\n",
       "      <td>0</td>\n",
       "      <td>0</td>\n",
       "    </tr>\n",
       "    <tr>\n",
       "      <th>435962603</th>\n",
       "      <td>Aaron Brown</td>\n",
       "      <td>CAN</td>\n",
       "      <td>male</td>\n",
       "      <td>1992-05-27</td>\n",
       "      <td>1.98</td>\n",
       "      <td>79.0</td>\n",
       "      <td>athletics</td>\n",
       "      <td>0</td>\n",
       "      <td>0</td>\n",
       "      <td>1</td>\n",
       "    </tr>\n",
       "    <tr>\n",
       "      <th>521041435</th>\n",
       "      <td>Aaron Cook</td>\n",
       "      <td>MDA</td>\n",
       "      <td>male</td>\n",
       "      <td>1991-01-02</td>\n",
       "      <td>1.83</td>\n",
       "      <td>80.0</td>\n",
       "      <td>taekwondo</td>\n",
       "      <td>0</td>\n",
       "      <td>0</td>\n",
       "      <td>0</td>\n",
       "    </tr>\n",
       "    <tr>\n",
       "      <th>33922579</th>\n",
       "      <td>Aaron Gate</td>\n",
       "      <td>NZL</td>\n",
       "      <td>male</td>\n",
       "      <td>1990-11-26</td>\n",
       "      <td>1.81</td>\n",
       "      <td>71.0</td>\n",
       "      <td>cycling</td>\n",
       "      <td>0</td>\n",
       "      <td>0</td>\n",
       "      <td>0</td>\n",
       "    </tr>\n",
       "  </tbody>\n",
       "</table>\n",
       "</div>"
      ],
      "text/plain": [
       "                     name nationality     sex        dob  height  weight  \\\n",
       "id                                                                         \n",
       "736041664  A Jesus Garcia         ESP    male 2069-10-17    1.72    64.0   \n",
       "532037425      A Lam Shin         KOR  female 1986-09-23    1.68    56.0   \n",
       "435962603     Aaron Brown         CAN    male 1992-05-27    1.98    79.0   \n",
       "521041435      Aaron Cook         MDA    male 1991-01-02    1.83    80.0   \n",
       "33922579       Aaron Gate         NZL    male 1990-11-26    1.81    71.0   \n",
       "\n",
       "               sport  gold  silver  bronze  \n",
       "id                                          \n",
       "736041664  athletics     0       0       0  \n",
       "532037425    fencing     0       0       0  \n",
       "435962603  athletics     0       0       1  \n",
       "521041435  taekwondo     0       0       0  \n",
       "33922579     cycling     0       0       0  "
      ]
     },
     "execution_count": 2,
     "metadata": {},
     "output_type": "execute_result"
    }
   ],
   "source": [
    "ctr = pd.read_csv(\"data/countries.csv\", encoding='utf-8')\n",
    "df = pd.read_csv(\"data/athletes.csv\", encoding='utf-8', decimal='.', parse_dates=['dob'], index_col=0).dropna()\n",
    "df.head()"
   ]
  },
  {
   "cell_type": "code",
   "execution_count": 3,
   "metadata": {},
   "outputs": [
    {
     "data": {
      "text/plain": [
       "gold      649\n",
       "silver    635\n",
       "bronze    636\n",
       "dtype: int64"
      ]
     },
     "execution_count": 3,
     "metadata": {},
     "output_type": "execute_result"
    }
   ],
   "source": [
    "df[['gold', 'silver', 'bronze']].sum()"
   ]
  },
  {
   "cell_type": "markdown",
   "metadata": {},
   "source": [
    "### Get some outlook on the dataset."
   ]
  },
  {
   "cell_type": "code",
   "execution_count": 4,
   "metadata": {},
   "outputs": [
    {
     "name": "stdout",
     "output_type": "stream",
     "text": [
      "<class 'pandas.core.frame.DataFrame'>\n",
      "Int64Index: 10858 entries, 736041664 to 711404576\n",
      "Data columns (total 10 columns):\n",
      " #   Column       Non-Null Count  Dtype         \n",
      "---  ------       --------------  -----         \n",
      " 0   name         10858 non-null  object        \n",
      " 1   nationality  10858 non-null  object        \n",
      " 2   sex          10858 non-null  object        \n",
      " 3   dob          10858 non-null  datetime64[ns]\n",
      " 4   height       10858 non-null  float64       \n",
      " 5   weight       10858 non-null  float64       \n",
      " 6   sport        10858 non-null  object        \n",
      " 7   gold         10858 non-null  int64         \n",
      " 8   silver       10858 non-null  int64         \n",
      " 9   bronze       10858 non-null  int64         \n",
      "dtypes: datetime64[ns](1), float64(2), int64(3), object(4)\n",
      "memory usage: 933.1+ KB\n"
     ]
    }
   ],
   "source": [
    "df.info()"
   ]
  },
  {
   "cell_type": "code",
   "execution_count": 5,
   "metadata": {},
   "outputs": [
    {
     "name": "stderr",
     "output_type": "stream",
     "text": [
      "C:\\Users\\jp_ko\\Anaconda3\\lib\\site-packages\\ipykernel_launcher.py:1: FutureWarning:\n",
      "\n",
      "Treating datetime data as categorical rather than numeric in `.describe` is deprecated and will be removed in a future version of pandas. Specify `datetime_is_numeric=True` to silence this warning and adopt the future behavior now.\n",
      "\n"
     ]
    },
    {
     "data": {
      "text/html": [
       "<div>\n",
       "<style scoped>\n",
       "    .dataframe tbody tr th:only-of-type {\n",
       "        vertical-align: middle;\n",
       "    }\n",
       "\n",
       "    .dataframe tbody tr th {\n",
       "        vertical-align: top;\n",
       "    }\n",
       "\n",
       "    .dataframe thead th {\n",
       "        text-align: right;\n",
       "    }\n",
       "</style>\n",
       "<table border=\"1\" class=\"dataframe\">\n",
       "  <thead>\n",
       "    <tr style=\"text-align: right;\">\n",
       "      <th></th>\n",
       "      <th>name</th>\n",
       "      <th>nationality</th>\n",
       "      <th>sex</th>\n",
       "      <th>dob</th>\n",
       "      <th>height</th>\n",
       "      <th>weight</th>\n",
       "      <th>sport</th>\n",
       "      <th>gold</th>\n",
       "      <th>silver</th>\n",
       "      <th>bronze</th>\n",
       "    </tr>\n",
       "  </thead>\n",
       "  <tbody>\n",
       "    <tr>\n",
       "      <th>count</th>\n",
       "      <td>10858</td>\n",
       "      <td>10858</td>\n",
       "      <td>10858</td>\n",
       "      <td>10858</td>\n",
       "      <td>10858.000000</td>\n",
       "      <td>10858.000000</td>\n",
       "      <td>10858</td>\n",
       "      <td>10858.000000</td>\n",
       "      <td>10858.000000</td>\n",
       "      <td>10858.000000</td>\n",
       "    </tr>\n",
       "    <tr>\n",
       "      <th>unique</th>\n",
       "      <td>10840</td>\n",
       "      <td>200</td>\n",
       "      <td>2</td>\n",
       "      <td>5453</td>\n",
       "      <td>NaN</td>\n",
       "      <td>NaN</td>\n",
       "      <td>27</td>\n",
       "      <td>NaN</td>\n",
       "      <td>NaN</td>\n",
       "      <td>NaN</td>\n",
       "    </tr>\n",
       "    <tr>\n",
       "      <th>top</th>\n",
       "      <td>Gabriella Szucs</td>\n",
       "      <td>USA</td>\n",
       "      <td>male</td>\n",
       "      <td>1993-02-18 00:00:00</td>\n",
       "      <td>NaN</td>\n",
       "      <td>NaN</td>\n",
       "      <td>athletics</td>\n",
       "      <td>NaN</td>\n",
       "      <td>NaN</td>\n",
       "      <td>NaN</td>\n",
       "    </tr>\n",
       "    <tr>\n",
       "      <th>freq</th>\n",
       "      <td>2</td>\n",
       "      <td>552</td>\n",
       "      <td>5862</td>\n",
       "      <td>9</td>\n",
       "      <td>NaN</td>\n",
       "      <td>NaN</td>\n",
       "      <td>2187</td>\n",
       "      <td>NaN</td>\n",
       "      <td>NaN</td>\n",
       "      <td>NaN</td>\n",
       "    </tr>\n",
       "    <tr>\n",
       "      <th>first</th>\n",
       "      <td>NaN</td>\n",
       "      <td>NaN</td>\n",
       "      <td>NaN</td>\n",
       "      <td>1971-03-11 00:00:00</td>\n",
       "      <td>NaN</td>\n",
       "      <td>NaN</td>\n",
       "      <td>NaN</td>\n",
       "      <td>NaN</td>\n",
       "      <td>NaN</td>\n",
       "      <td>NaN</td>\n",
       "    </tr>\n",
       "    <tr>\n",
       "      <th>last</th>\n",
       "      <td>NaN</td>\n",
       "      <td>NaN</td>\n",
       "      <td>NaN</td>\n",
       "      <td>2070-12-21 00:00:00</td>\n",
       "      <td>NaN</td>\n",
       "      <td>NaN</td>\n",
       "      <td>NaN</td>\n",
       "      <td>NaN</td>\n",
       "      <td>NaN</td>\n",
       "      <td>NaN</td>\n",
       "    </tr>\n",
       "    <tr>\n",
       "      <th>mean</th>\n",
       "      <td>NaN</td>\n",
       "      <td>NaN</td>\n",
       "      <td>NaN</td>\n",
       "      <td>NaN</td>\n",
       "      <td>1.766942</td>\n",
       "      <td>72.070915</td>\n",
       "      <td>NaN</td>\n",
       "      <td>0.059772</td>\n",
       "      <td>0.058482</td>\n",
       "      <td>0.058574</td>\n",
       "    </tr>\n",
       "    <tr>\n",
       "      <th>std</th>\n",
       "      <td>NaN</td>\n",
       "      <td>NaN</td>\n",
       "      <td>NaN</td>\n",
       "      <td>NaN</td>\n",
       "      <td>0.113111</td>\n",
       "      <td>16.162358</td>\n",
       "      <td>NaN</td>\n",
       "      <td>0.260756</td>\n",
       "      <td>0.242387</td>\n",
       "      <td>0.239113</td>\n",
       "    </tr>\n",
       "    <tr>\n",
       "      <th>min</th>\n",
       "      <td>NaN</td>\n",
       "      <td>NaN</td>\n",
       "      <td>NaN</td>\n",
       "      <td>NaN</td>\n",
       "      <td>1.210000</td>\n",
       "      <td>31.000000</td>\n",
       "      <td>NaN</td>\n",
       "      <td>0.000000</td>\n",
       "      <td>0.000000</td>\n",
       "      <td>0.000000</td>\n",
       "    </tr>\n",
       "    <tr>\n",
       "      <th>25%</th>\n",
       "      <td>NaN</td>\n",
       "      <td>NaN</td>\n",
       "      <td>NaN</td>\n",
       "      <td>NaN</td>\n",
       "      <td>1.690000</td>\n",
       "      <td>60.000000</td>\n",
       "      <td>NaN</td>\n",
       "      <td>0.000000</td>\n",
       "      <td>0.000000</td>\n",
       "      <td>0.000000</td>\n",
       "    </tr>\n",
       "    <tr>\n",
       "      <th>50%</th>\n",
       "      <td>NaN</td>\n",
       "      <td>NaN</td>\n",
       "      <td>NaN</td>\n",
       "      <td>NaN</td>\n",
       "      <td>1.760000</td>\n",
       "      <td>70.000000</td>\n",
       "      <td>NaN</td>\n",
       "      <td>0.000000</td>\n",
       "      <td>0.000000</td>\n",
       "      <td>0.000000</td>\n",
       "    </tr>\n",
       "    <tr>\n",
       "      <th>75%</th>\n",
       "      <td>NaN</td>\n",
       "      <td>NaN</td>\n",
       "      <td>NaN</td>\n",
       "      <td>NaN</td>\n",
       "      <td>1.840000</td>\n",
       "      <td>81.000000</td>\n",
       "      <td>NaN</td>\n",
       "      <td>0.000000</td>\n",
       "      <td>0.000000</td>\n",
       "      <td>0.000000</td>\n",
       "    </tr>\n",
       "    <tr>\n",
       "      <th>max</th>\n",
       "      <td>NaN</td>\n",
       "      <td>NaN</td>\n",
       "      <td>NaN</td>\n",
       "      <td>NaN</td>\n",
       "      <td>2.210000</td>\n",
       "      <td>170.000000</td>\n",
       "      <td>NaN</td>\n",
       "      <td>5.000000</td>\n",
       "      <td>2.000000</td>\n",
       "      <td>2.000000</td>\n",
       "    </tr>\n",
       "  </tbody>\n",
       "</table>\n",
       "</div>"
      ],
      "text/plain": [
       "                   name nationality    sex                  dob        height  \\\n",
       "count             10858       10858  10858                10858  10858.000000   \n",
       "unique            10840         200      2                 5453           NaN   \n",
       "top     Gabriella Szucs         USA   male  1993-02-18 00:00:00           NaN   \n",
       "freq                  2         552   5862                    9           NaN   \n",
       "first               NaN         NaN    NaN  1971-03-11 00:00:00           NaN   \n",
       "last                NaN         NaN    NaN  2070-12-21 00:00:00           NaN   \n",
       "mean                NaN         NaN    NaN                  NaN      1.766942   \n",
       "std                 NaN         NaN    NaN                  NaN      0.113111   \n",
       "min                 NaN         NaN    NaN                  NaN      1.210000   \n",
       "25%                 NaN         NaN    NaN                  NaN      1.690000   \n",
       "50%                 NaN         NaN    NaN                  NaN      1.760000   \n",
       "75%                 NaN         NaN    NaN                  NaN      1.840000   \n",
       "max                 NaN         NaN    NaN                  NaN      2.210000   \n",
       "\n",
       "              weight      sport          gold        silver        bronze  \n",
       "count   10858.000000      10858  10858.000000  10858.000000  10858.000000  \n",
       "unique           NaN         27           NaN           NaN           NaN  \n",
       "top              NaN  athletics           NaN           NaN           NaN  \n",
       "freq             NaN       2187           NaN           NaN           NaN  \n",
       "first            NaN        NaN           NaN           NaN           NaN  \n",
       "last             NaN        NaN           NaN           NaN           NaN  \n",
       "mean       72.070915        NaN      0.059772      0.058482      0.058574  \n",
       "std        16.162358        NaN      0.260756      0.242387      0.239113  \n",
       "min        31.000000        NaN      0.000000      0.000000      0.000000  \n",
       "25%        60.000000        NaN      0.000000      0.000000      0.000000  \n",
       "50%        70.000000        NaN      0.000000      0.000000      0.000000  \n",
       "75%        81.000000        NaN      0.000000      0.000000      0.000000  \n",
       "max       170.000000        NaN      5.000000      2.000000      2.000000  "
      ]
     },
     "execution_count": 5,
     "metadata": {},
     "output_type": "execute_result"
    }
   ],
   "source": [
    "df.describe(include='all')"
   ]
  },
  {
   "cell_type": "markdown",
   "metadata": {},
   "source": [
    "## Prepare features\n",
    "### Age\n",
    "Transform date of birth to age in years and display histogram."
   ]
  },
  {
   "cell_type": "code",
   "execution_count": 6,
   "metadata": {},
   "outputs": [
    {
     "data": {
      "text/plain": [
       "<matplotlib.axes._subplots.AxesSubplot at 0x212ee065470>"
      ]
     },
     "execution_count": 6,
     "metadata": {},
     "output_type": "execute_result"
    },
    {
     "data": {
      "image/png": "[encoded data removed]",
      "text/plain": [
       "<Figure size 432x288 with 1 Axes>"
      ]
     },
     "metadata": {
      "needs_background": "light"
     },
     "output_type": "display_data"
    }
   ],
   "source": [
    "df['Age'] = round(((pd.to_datetime('today') - df['dob']).dt.days) / 365 , 0)\n",
    "df['Age'].hist()"
   ]
  },
  {
   "cell_type": "code",
   "execution_count": 7,
   "metadata": {},
   "outputs": [
    {
     "data": {
      "text/html": [
       "<div>\n",
       "<style scoped>\n",
       "    .dataframe tbody tr th:only-of-type {\n",
       "        vertical-align: middle;\n",
       "    }\n",
       "\n",
       "    .dataframe tbody tr th {\n",
       "        vertical-align: top;\n",
       "    }\n",
       "\n",
       "    .dataframe thead th {\n",
       "        text-align: right;\n",
       "    }\n",
       "</style>\n",
       "<table border=\"1\" class=\"dataframe\">\n",
       "  <thead>\n",
       "    <tr style=\"text-align: right;\">\n",
       "      <th></th>\n",
       "      <th>name</th>\n",
       "      <th>nationality</th>\n",
       "      <th>sex</th>\n",
       "      <th>dob</th>\n",
       "      <th>height</th>\n",
       "      <th>weight</th>\n",
       "      <th>sport</th>\n",
       "      <th>gold</th>\n",
       "      <th>silver</th>\n",
       "      <th>bronze</th>\n",
       "      <th>Age</th>\n",
       "    </tr>\n",
       "    <tr>\n",
       "      <th>id</th>\n",
       "      <th></th>\n",
       "      <th></th>\n",
       "      <th></th>\n",
       "      <th></th>\n",
       "      <th></th>\n",
       "      <th></th>\n",
       "      <th></th>\n",
       "      <th></th>\n",
       "      <th></th>\n",
       "      <th></th>\n",
       "      <th></th>\n",
       "    </tr>\n",
       "  </thead>\n",
       "  <tbody>\n",
       "    <tr>\n",
       "      <th>736041664</th>\n",
       "      <td>A Jesus Garcia</td>\n",
       "      <td>ESP</td>\n",
       "      <td>male</td>\n",
       "      <td>2069-10-17</td>\n",
       "      <td>1.72</td>\n",
       "      <td>64.0</td>\n",
       "      <td>athletics</td>\n",
       "      <td>0</td>\n",
       "      <td>0</td>\n",
       "      <td>0</td>\n",
       "      <td>-48.0</td>\n",
       "    </tr>\n",
       "    <tr>\n",
       "      <th>189886442</th>\n",
       "      <td>Abdelkebir Ouaddar</td>\n",
       "      <td>MAR</td>\n",
       "      <td>male</td>\n",
       "      <td>2062-07-15</td>\n",
       "      <td>1.74</td>\n",
       "      <td>67.0</td>\n",
       "      <td>equestrian</td>\n",
       "      <td>0</td>\n",
       "      <td>0</td>\n",
       "      <td>0</td>\n",
       "      <td>-41.0</td>\n",
       "    </tr>\n",
       "    <tr>\n",
       "      <th>969824503</th>\n",
       "      <td>Abdullah Alrashidi</td>\n",
       "      <td>IOA</td>\n",
       "      <td>male</td>\n",
       "      <td>2063-08-21</td>\n",
       "      <td>1.83</td>\n",
       "      <td>84.0</td>\n",
       "      <td>shooting</td>\n",
       "      <td>0</td>\n",
       "      <td>0</td>\n",
       "      <td>1</td>\n",
       "      <td>-42.0</td>\n",
       "    </tr>\n",
       "    <tr>\n",
       "      <th>794799982</th>\n",
       "      <td>Alex Cejka</td>\n",
       "      <td>GER</td>\n",
       "      <td>male</td>\n",
       "      <td>2070-12-02</td>\n",
       "      <td>1.68</td>\n",
       "      <td>65.0</td>\n",
       "      <td>golf</td>\n",
       "      <td>0</td>\n",
       "      <td>0</td>\n",
       "      <td>0</td>\n",
       "      <td>-50.0</td>\n",
       "    </tr>\n",
       "    <tr>\n",
       "      <th>54828663</th>\n",
       "      <td>Andrey Mitin</td>\n",
       "      <td>RUS</td>\n",
       "      <td>male</td>\n",
       "      <td>2070-04-05</td>\n",
       "      <td>1.74</td>\n",
       "      <td>80.0</td>\n",
       "      <td>equestrian</td>\n",
       "      <td>0</td>\n",
       "      <td>0</td>\n",
       "      <td>0</td>\n",
       "      <td>-49.0</td>\n",
       "    </tr>\n",
       "  </tbody>\n",
       "</table>\n",
       "</div>"
      ],
      "text/plain": [
       "                         name nationality   sex        dob  height  weight  \\\n",
       "id                                                                           \n",
       "736041664      A Jesus Garcia         ESP  male 2069-10-17    1.72    64.0   \n",
       "189886442  Abdelkebir Ouaddar         MAR  male 2062-07-15    1.74    67.0   \n",
       "969824503  Abdullah Alrashidi         IOA  male 2063-08-21    1.83    84.0   \n",
       "794799982          Alex Cejka         GER  male 2070-12-02    1.68    65.0   \n",
       "54828663         Andrey Mitin         RUS  male 2070-04-05    1.74    80.0   \n",
       "\n",
       "                sport  gold  silver  bronze   Age  \n",
       "id                                                 \n",
       "736041664   athletics     0       0       0 -48.0  \n",
       "189886442  equestrian     0       0       0 -41.0  \n",
       "969824503    shooting     0       0       1 -42.0  \n",
       "794799982        golf     0       0       0 -50.0  \n",
       "54828663   equestrian     0       0       0 -49.0  "
      ]
     },
     "execution_count": 7,
     "metadata": {},
     "output_type": "execute_result"
    }
   ],
   "source": [
    "df[df['Age'] < 0].head()"
   ]
  },
  {
   "cell_type": "markdown",
   "metadata": {},
   "source": [
    "Looks that in some cases date of birth is wrongly read from csv by pandas (like it was year 2050+). Quick internet research confirms that eg. **Abdelkebir Ouaddar** was born in 1962 instead of 2062. Let's fix this mistake for all athlete's."
   ]
  },
  {
   "cell_type": "code",
   "execution_count": 8,
   "metadata": {},
   "outputs": [
    {
     "data": {
      "text/plain": [
       "<matplotlib.axes._subplots.AxesSubplot at 0x212ee8d1160>"
      ]
     },
     "execution_count": 8,
     "metadata": {},
     "output_type": "execute_result"
    },
    {
     "data": {
      "image/png": "[encoded data removed]",
      "text/plain": [
       "<Figure size 432x288 with 1 Axes>"
      ]
     },
     "metadata": {
      "needs_background": "light"
     },
     "output_type": "display_data"
    }
   ],
   "source": [
    "df['Age'] = np.where(df['Age'] < 0, df['Age'] + 100, df['Age'])\n",
    "df['Age'].hist(bins=20)"
   ]
  },
  {
   "cell_type": "markdown",
   "metadata": {},
   "source": [
    "Looks correct now."
   ]
  },
  {
   "cell_type": "markdown",
   "metadata": {},
   "source": [
    "### Medal - target variable\n",
    "I will add information whether athlete won any medals or not, no matter what colour the medal was. This is going to be my binary target variable."
   ]
  },
  {
   "cell_type": "code",
   "execution_count": 9,
   "metadata": {},
   "outputs": [],
   "source": [
    "df['medal'] = np.where(df['gold'] + df['silver'] + df['bronze'] > 0, 1, 0)"
   ]
  },
  {
   "cell_type": "markdown",
   "metadata": {},
   "source": [
    "### Country - continent\n",
    "There is too many categories in the nationality column, so I will grouby them by continents. To group countries by continents I will need to map them. List of countries with continents: https://gist.github.com/mlisovyi/e8df5c907a8250e14cc1e5933ed53ffd"
   ]
  },
  {
   "cell_type": "code",
   "execution_count": 11,
   "metadata": {},
   "outputs": [
    {
     "data": {
      "text/html": [
       "<div>\n",
       "<style scoped>\n",
       "    .dataframe tbody tr th:only-of-type {\n",
       "        vertical-align: middle;\n",
       "    }\n",
       "\n",
       "    .dataframe tbody tr th {\n",
       "        vertical-align: top;\n",
       "    }\n",
       "\n",
       "    .dataframe thead th {\n",
       "        text-align: right;\n",
       "    }\n",
       "</style>\n",
       "<table border=\"1\" class=\"dataframe\">\n",
       "  <thead>\n",
       "    <tr style=\"text-align: right;\">\n",
       "      <th></th>\n",
       "      <th>capital</th>\n",
       "      <th>code</th>\n",
       "      <th>continent</th>\n",
       "      <th>name</th>\n",
       "      <th>timezones</th>\n",
       "    </tr>\n",
       "  </thead>\n",
       "  <tbody>\n",
       "    <tr>\n",
       "      <th>0</th>\n",
       "      <td>Andorra la Vella</td>\n",
       "      <td>AD</td>\n",
       "      <td>Europe</td>\n",
       "      <td>Andorra</td>\n",
       "      <td>['Europe/Andorra']</td>\n",
       "    </tr>\n",
       "    <tr>\n",
       "      <th>1</th>\n",
       "      <td>Kabul</td>\n",
       "      <td>AF</td>\n",
       "      <td>Asia</td>\n",
       "      <td>Afghanistan</td>\n",
       "      <td>['Asia/Kabul']</td>\n",
       "    </tr>\n",
       "    <tr>\n",
       "      <th>2</th>\n",
       "      <td>St. John's</td>\n",
       "      <td>AG</td>\n",
       "      <td>North America</td>\n",
       "      <td>Antigua and Barbuda</td>\n",
       "      <td>['America/Antigua']</td>\n",
       "    </tr>\n",
       "    <tr>\n",
       "      <th>3</th>\n",
       "      <td>Tirana</td>\n",
       "      <td>AL</td>\n",
       "      <td>Europe</td>\n",
       "      <td>Albania</td>\n",
       "      <td>['Europe/Tirane']</td>\n",
       "    </tr>\n",
       "    <tr>\n",
       "      <th>4</th>\n",
       "      <td>Yerevan</td>\n",
       "      <td>AM</td>\n",
       "      <td>Asia</td>\n",
       "      <td>Armenia</td>\n",
       "      <td>['Asia/Yerevan']</td>\n",
       "    </tr>\n",
       "  </tbody>\n",
       "</table>\n",
       "</div>"
      ],
      "text/plain": [
       "            capital code      continent                 name  \\\n",
       "0  Andorra la Vella   AD         Europe              Andorra   \n",
       "1             Kabul   AF           Asia          Afghanistan   \n",
       "2        St. John's   AG  North America  Antigua and Barbuda   \n",
       "3            Tirana   AL         Europe              Albania   \n",
       "4           Yerevan   AM           Asia              Armenia   \n",
       "\n",
       "             timezones  \n",
       "0   ['Europe/Andorra']  \n",
       "1       ['Asia/Kabul']  \n",
       "2  ['America/Antigua']  \n",
       "3    ['Europe/Tirane']  \n",
       "4     ['Asia/Yerevan']  "
      ]
     },
     "execution_count": 11,
     "metadata": {},
     "output_type": "execute_result"
    }
   ],
   "source": [
    "cont = pd.read_excel('data/continents.xlsx', engine='openpyxl')\n",
    "cont.head()"
   ]
  },
  {
   "cell_type": "markdown",
   "metadata": {},
   "source": [
    "Join 'continents' and 'countries' data frames. "
   ]
  },
  {
   "cell_type": "code",
   "execution_count": 12,
   "metadata": {},
   "outputs": [
    {
     "data": {
      "text/html": [
       "<div>\n",
       "<style scoped>\n",
       "    .dataframe tbody tr th:only-of-type {\n",
       "        vertical-align: middle;\n",
       "    }\n",
       "\n",
       "    .dataframe tbody tr th {\n",
       "        vertical-align: top;\n",
       "    }\n",
       "\n",
       "    .dataframe thead th {\n",
       "        text-align: right;\n",
       "    }\n",
       "</style>\n",
       "<table border=\"1\" class=\"dataframe\">\n",
       "  <thead>\n",
       "    <tr style=\"text-align: right;\">\n",
       "      <th></th>\n",
       "      <th>country</th>\n",
       "      <th>code</th>\n",
       "      <th>population</th>\n",
       "      <th>gdp_per_capita</th>\n",
       "      <th>continent</th>\n",
       "      <th>name</th>\n",
       "    </tr>\n",
       "  </thead>\n",
       "  <tbody>\n",
       "    <tr>\n",
       "      <th>0</th>\n",
       "      <td>Afghanistan</td>\n",
       "      <td>AFG</td>\n",
       "      <td>32526562.0</td>\n",
       "      <td>594.323081</td>\n",
       "      <td>Asia</td>\n",
       "      <td>Afghanistan</td>\n",
       "    </tr>\n",
       "    <tr>\n",
       "      <th>1</th>\n",
       "      <td>Albania</td>\n",
       "      <td>ALB</td>\n",
       "      <td>2889167.0</td>\n",
       "      <td>3945.217582</td>\n",
       "      <td>Europe</td>\n",
       "      <td>Albania</td>\n",
       "    </tr>\n",
       "    <tr>\n",
       "      <th>2</th>\n",
       "      <td>Algeria</td>\n",
       "      <td>ALG</td>\n",
       "      <td>39666519.0</td>\n",
       "      <td>4206.031232</td>\n",
       "      <td>Africa</td>\n",
       "      <td>Algeria</td>\n",
       "    </tr>\n",
       "    <tr>\n",
       "      <th>3</th>\n",
       "      <td>American Samoa*</td>\n",
       "      <td>ASA</td>\n",
       "      <td>55538.0</td>\n",
       "      <td>NaN</td>\n",
       "      <td>NaN</td>\n",
       "      <td>NaN</td>\n",
       "    </tr>\n",
       "    <tr>\n",
       "      <th>4</th>\n",
       "      <td>Andorra</td>\n",
       "      <td>AND</td>\n",
       "      <td>70473.0</td>\n",
       "      <td>NaN</td>\n",
       "      <td>Europe</td>\n",
       "      <td>Andorra</td>\n",
       "    </tr>\n",
       "  </tbody>\n",
       "</table>\n",
       "</div>"
      ],
      "text/plain": [
       "           country code  population  gdp_per_capita continent         name\n",
       "0      Afghanistan  AFG  32526562.0      594.323081      Asia  Afghanistan\n",
       "1          Albania  ALB   2889167.0     3945.217582    Europe      Albania\n",
       "2          Algeria  ALG  39666519.0     4206.031232    Africa      Algeria\n",
       "3  American Samoa*  ASA     55538.0             NaN       NaN          NaN\n",
       "4          Andorra  AND     70473.0             NaN    Europe      Andorra"
      ]
     },
     "execution_count": 12,
     "metadata": {},
     "output_type": "execute_result"
    }
   ],
   "source": [
    "ctr = ctr.merge(cont[['continent', 'name']],\n",
    "                left_on='country',\n",
    "                right_on='name',\n",
    "                how='left')\n",
    "ctr.head()"
   ]
  },
  {
   "cell_type": "markdown",
   "metadata": {},
   "source": [
    "Let's check if there aren't too many NaN and correct the most significant manually."
   ]
  },
  {
   "cell_type": "code",
   "execution_count": 13,
   "metadata": {},
   "outputs": [
    {
     "data": {
      "text/html": [
       "<div>\n",
       "<style scoped>\n",
       "    .dataframe tbody tr th:only-of-type {\n",
       "        vertical-align: middle;\n",
       "    }\n",
       "\n",
       "    .dataframe tbody tr th {\n",
       "        vertical-align: top;\n",
       "    }\n",
       "\n",
       "    .dataframe thead th {\n",
       "        text-align: right;\n",
       "    }\n",
       "</style>\n",
       "<table border=\"1\" class=\"dataframe\">\n",
       "  <thead>\n",
       "    <tr style=\"text-align: right;\">\n",
       "      <th></th>\n",
       "      <th>country</th>\n",
       "      <th>code</th>\n",
       "      <th>population</th>\n",
       "      <th>gdp_per_capita</th>\n",
       "      <th>continent</th>\n",
       "      <th>name</th>\n",
       "    </tr>\n",
       "  </thead>\n",
       "  <tbody>\n",
       "    <tr>\n",
       "      <th>3</th>\n",
       "      <td>American Samoa*</td>\n",
       "      <td>ASA</td>\n",
       "      <td>5.553800e+04</td>\n",
       "      <td>NaN</td>\n",
       "      <td>NaN</td>\n",
       "      <td>NaN</td>\n",
       "    </tr>\n",
       "    <tr>\n",
       "      <th>9</th>\n",
       "      <td>Aruba*</td>\n",
       "      <td>ARU</td>\n",
       "      <td>1.038890e+05</td>\n",
       "      <td>NaN</td>\n",
       "      <td>NaN</td>\n",
       "      <td>NaN</td>\n",
       "    </tr>\n",
       "    <tr>\n",
       "      <th>20</th>\n",
       "      <td>Bermuda*</td>\n",
       "      <td>BER</td>\n",
       "      <td>6.523500e+04</td>\n",
       "      <td>NaN</td>\n",
       "      <td>NaN</td>\n",
       "      <td>NaN</td>\n",
       "    </tr>\n",
       "    <tr>\n",
       "      <th>27</th>\n",
       "      <td>British Virgin Islands</td>\n",
       "      <td>IVB</td>\n",
       "      <td>3.011700e+04</td>\n",
       "      <td>NaN</td>\n",
       "      <td>NaN</td>\n",
       "      <td>NaN</td>\n",
       "    </tr>\n",
       "    <tr>\n",
       "      <th>28</th>\n",
       "      <td>Brunei</td>\n",
       "      <td>BRU</td>\n",
       "      <td>4.231880e+05</td>\n",
       "      <td>30554.729666</td>\n",
       "      <td>NaN</td>\n",
       "      <td>NaN</td>\n",
       "    </tr>\n",
       "    <tr>\n",
       "      <th>36</th>\n",
       "      <td>Cayman Islands*</td>\n",
       "      <td>CAY</td>\n",
       "      <td>5.996700e+04</td>\n",
       "      <td>NaN</td>\n",
       "      <td>NaN</td>\n",
       "      <td>NaN</td>\n",
       "    </tr>\n",
       "    <tr>\n",
       "      <th>40</th>\n",
       "      <td>China</td>\n",
       "      <td>CHN</td>\n",
       "      <td>1.371220e+09</td>\n",
       "      <td>8027.683810</td>\n",
       "      <td>NaN</td>\n",
       "      <td>NaN</td>\n",
       "    </tr>\n",
       "    <tr>\n",
       "      <th>43</th>\n",
       "      <td>Congo</td>\n",
       "      <td>CGO</td>\n",
       "      <td>4.620330e+06</td>\n",
       "      <td>1851.199916</td>\n",
       "      <td>NaN</td>\n",
       "      <td>NaN</td>\n",
       "    </tr>\n",
       "    <tr>\n",
       "      <th>44</th>\n",
       "      <td>Congo, Dem Rep</td>\n",
       "      <td>COD</td>\n",
       "      <td>7.726681e+07</td>\n",
       "      <td>456.052741</td>\n",
       "      <td>NaN</td>\n",
       "      <td>NaN</td>\n",
       "    </tr>\n",
       "    <tr>\n",
       "      <th>45</th>\n",
       "      <td>Cook Islands</td>\n",
       "      <td>COK</td>\n",
       "      <td>NaN</td>\n",
       "      <td>NaN</td>\n",
       "      <td>NaN</td>\n",
       "      <td>NaN</td>\n",
       "    </tr>\n",
       "    <tr>\n",
       "      <th>47</th>\n",
       "      <td>Cote d'Ivoire</td>\n",
       "      <td>CIV</td>\n",
       "      <td>2.270156e+07</td>\n",
       "      <td>1398.989958</td>\n",
       "      <td>NaN</td>\n",
       "      <td>NaN</td>\n",
       "    </tr>\n",
       "    <tr>\n",
       "      <th>56</th>\n",
       "      <td>East Timor (Timor-Leste)</td>\n",
       "      <td>TLS</td>\n",
       "      <td>1.245015e+06</td>\n",
       "      <td>1157.992956</td>\n",
       "      <td>NaN</td>\n",
       "      <td>NaN</td>\n",
       "    </tr>\n",
       "    <tr>\n",
       "      <th>68</th>\n",
       "      <td>Gambia</td>\n",
       "      <td>GAM</td>\n",
       "      <td>1.990924e+06</td>\n",
       "      <td>471.537195</td>\n",
       "      <td>NaN</td>\n",
       "      <td>NaN</td>\n",
       "    </tr>\n",
       "    <tr>\n",
       "      <th>74</th>\n",
       "      <td>Guam</td>\n",
       "      <td>GUM</td>\n",
       "      <td>1.698850e+05</td>\n",
       "      <td>NaN</td>\n",
       "      <td>NaN</td>\n",
       "      <td>NaN</td>\n",
       "    </tr>\n",
       "    <tr>\n",
       "      <th>81</th>\n",
       "      <td>Hong Kong*</td>\n",
       "      <td>HKG</td>\n",
       "      <td>7.305700e+06</td>\n",
       "      <td>42327.839957</td>\n",
       "      <td>NaN</td>\n",
       "      <td>NaN</td>\n",
       "    </tr>\n",
       "    <tr>\n",
       "      <th>88</th>\n",
       "      <td>Ireland</td>\n",
       "      <td>IRL</td>\n",
       "      <td>4.640703e+06</td>\n",
       "      <td>61133.672427</td>\n",
       "      <td>NaN</td>\n",
       "      <td>NaN</td>\n",
       "    </tr>\n",
       "    <tr>\n",
       "      <th>96</th>\n",
       "      <td>Korea, North</td>\n",
       "      <td>PRK</td>\n",
       "      <td>2.515532e+07</td>\n",
       "      <td>NaN</td>\n",
       "      <td>NaN</td>\n",
       "      <td>NaN</td>\n",
       "    </tr>\n",
       "    <tr>\n",
       "      <th>97</th>\n",
       "      <td>Korea, South</td>\n",
       "      <td>KOR</td>\n",
       "      <td>5.061704e+07</td>\n",
       "      <td>27221.524051</td>\n",
       "      <td>NaN</td>\n",
       "      <td>NaN</td>\n",
       "    </tr>\n",
       "    <tr>\n",
       "      <th>119</th>\n",
       "      <td>Micronesia</td>\n",
       "      <td>FSM</td>\n",
       "      <td>1.044600e+05</td>\n",
       "      <td>3015.231668</td>\n",
       "      <td>NaN</td>\n",
       "      <td>NaN</td>\n",
       "    </tr>\n",
       "    <tr>\n",
       "      <th>125</th>\n",
       "      <td>Burma</td>\n",
       "      <td>MYA</td>\n",
       "      <td>5.389715e+07</td>\n",
       "      <td>1161.488158</td>\n",
       "      <td>NaN</td>\n",
       "      <td>NaN</td>\n",
       "    </tr>\n",
       "    <tr>\n",
       "      <th>129</th>\n",
       "      <td>Netherlands</td>\n",
       "      <td>NED</td>\n",
       "      <td>1.693652e+07</td>\n",
       "      <td>44299.768085</td>\n",
       "      <td>NaN</td>\n",
       "      <td>NaN</td>\n",
       "    </tr>\n",
       "    <tr>\n",
       "      <th>130</th>\n",
       "      <td>Netherlands Antilles*</td>\n",
       "      <td>AHO</td>\n",
       "      <td>NaN</td>\n",
       "      <td>NaN</td>\n",
       "      <td>NaN</td>\n",
       "      <td>NaN</td>\n",
       "    </tr>\n",
       "    <tr>\n",
       "      <th>139</th>\n",
       "      <td>Palestine, Occupied Territories</td>\n",
       "      <td>PLE</td>\n",
       "      <td>NaN</td>\n",
       "      <td>NaN</td>\n",
       "      <td>NaN</td>\n",
       "      <td>NaN</td>\n",
       "    </tr>\n",
       "    <tr>\n",
       "      <th>147</th>\n",
       "      <td>Puerto Rico*</td>\n",
       "      <td>PUR</td>\n",
       "      <td>3.474182e+06</td>\n",
       "      <td>NaN</td>\n",
       "      <td>NaN</td>\n",
       "      <td>NaN</td>\n",
       "    </tr>\n",
       "    <tr>\n",
       "      <th>157</th>\n",
       "      <td>Sao Tome and Principe</td>\n",
       "      <td>STP</td>\n",
       "      <td>1.903440e+05</td>\n",
       "      <td>1669.063268</td>\n",
       "      <td>NaN</td>\n",
       "      <td>NaN</td>\n",
       "    </tr>\n",
       "    <tr>\n",
       "      <th>197</th>\n",
       "      <td>Virgin Islands*</td>\n",
       "      <td>ISV</td>\n",
       "      <td>1.035740e+05</td>\n",
       "      <td>NaN</td>\n",
       "      <td>NaN</td>\n",
       "      <td>NaN</td>\n",
       "    </tr>\n",
       "  </tbody>\n",
       "</table>\n",
       "</div>"
      ],
      "text/plain": [
       "                             country code    population  gdp_per_capita  \\\n",
       "3                    American Samoa*  ASA  5.553800e+04             NaN   \n",
       "9                             Aruba*  ARU  1.038890e+05             NaN   \n",
       "20                          Bermuda*  BER  6.523500e+04             NaN   \n",
       "27            British Virgin Islands  IVB  3.011700e+04             NaN   \n",
       "28                            Brunei  BRU  4.231880e+05    30554.729666   \n",
       "36                   Cayman Islands*  CAY  5.996700e+04             NaN   \n",
       "40                             China  CHN  1.371220e+09     8027.683810   \n",
       "43                             Congo  CGO  4.620330e+06     1851.199916   \n",
       "44                    Congo, Dem Rep  COD  7.726681e+07      456.052741   \n",
       "45                      Cook Islands  COK           NaN             NaN   \n",
       "47                     Cote d'Ivoire  CIV  2.270156e+07     1398.989958   \n",
       "56          East Timor (Timor-Leste)  TLS  1.245015e+06     1157.992956   \n",
       "68                            Gambia  GAM  1.990924e+06      471.537195   \n",
       "74                              Guam  GUM  1.698850e+05             NaN   \n",
       "81                        Hong Kong*  HKG  7.305700e+06    42327.839957   \n",
       "88                           Ireland  IRL  4.640703e+06    61133.672427   \n",
       "96                      Korea, North  PRK  2.515532e+07             NaN   \n",
       "97                      Korea, South  KOR  5.061704e+07    27221.524051   \n",
       "119                       Micronesia  FSM  1.044600e+05     3015.231668   \n",
       "125                            Burma  MYA  5.389715e+07     1161.488158   \n",
       "129                      Netherlands  NED  1.693652e+07    44299.768085   \n",
       "130            Netherlands Antilles*  AHO           NaN             NaN   \n",
       "139  Palestine, Occupied Territories  PLE           NaN             NaN   \n",
       "147                     Puerto Rico*  PUR  3.474182e+06             NaN   \n",
       "157            Sao Tome and Principe  STP  1.903440e+05     1669.063268   \n",
       "197                  Virgin Islands*  ISV  1.035740e+05             NaN   \n",
       "\n",
       "    continent name  \n",
       "3         NaN  NaN  \n",
       "9         NaN  NaN  \n",
       "20        NaN  NaN  \n",
       "27        NaN  NaN  \n",
       "28        NaN  NaN  \n",
       "36        NaN  NaN  \n",
       "40        NaN  NaN  \n",
       "43        NaN  NaN  \n",
       "44        NaN  NaN  \n",
       "45        NaN  NaN  \n",
       "47        NaN  NaN  \n",
       "56        NaN  NaN  \n",
       "68        NaN  NaN  \n",
       "74        NaN  NaN  \n",
       "81        NaN  NaN  \n",
       "88        NaN  NaN  \n",
       "96        NaN  NaN  \n",
       "97        NaN  NaN  \n",
       "119       NaN  NaN  \n",
       "125       NaN  NaN  \n",
       "129       NaN  NaN  \n",
       "130       NaN  NaN  \n",
       "139       NaN  NaN  \n",
       "147       NaN  NaN  \n",
       "157       NaN  NaN  \n",
       "197       NaN  NaN  "
      ]
     },
     "execution_count": 13,
     "metadata": {},
     "output_type": "execute_result"
    }
   ],
   "source": [
    "ctr[ctr['continent'].isna()==True]"
   ]
  },
  {
   "cell_type": "markdown",
   "metadata": {},
   "source": [
    "I will correct only few of these countries, as most of them don't win any medals at the Olympics"
   ]
  },
  {
   "cell_type": "code",
   "execution_count": 14,
   "metadata": {},
   "outputs": [],
   "source": [
    "ctr.loc[40, 'continent'] = 'Asia'    # China\n",
    "ctr.loc[43, 'continent'] = 'Africa'  # Congo\n",
    "ctr.loc[47, 'continent'] = 'Africa'  # Cote d'Ivoire\n",
    "ctr.loc[81, 'continent'] = 'Asia'    # Hong Kong\n",
    "ctr.loc[88, 'continent'] = 'Europe'  # Ireland\n",
    "ctr.loc[96, 'continent'] = 'Asia'    # South Korea\n",
    "ctr.loc[129, 'continent'] = 'Europe' # Netherlands"
   ]
  },
  {
   "cell_type": "code",
   "execution_count": 15,
   "metadata": {},
   "outputs": [
    {
     "data": {
      "text/plain": [
       "USA    552\n",
       "BRA    466\n",
       "GER    435\n",
       "AUS    410\n",
       "FRA    398\n",
       "Name: nationality, dtype: int64"
      ]
     },
     "execution_count": 15,
     "metadata": {},
     "output_type": "execute_result"
    }
   ],
   "source": [
    "df['nationality'].value_counts().head()"
   ]
  },
  {
   "cell_type": "markdown",
   "metadata": {},
   "source": [
    "Join information about countries to athlete data frame."
   ]
  },
  {
   "cell_type": "code",
   "execution_count": 16,
   "metadata": {},
   "outputs": [],
   "source": [
    "df = df.merge(ctr[['code', 'continent', 'population', 'gdp_per_capita']],\n",
    "              left_on='nationality',\n",
    "              right_on='code',\n",
    "              how='left')"
   ]
  },
  {
   "cell_type": "markdown",
   "metadata": {},
   "source": [
    "### IOC joining date\n",
    "Import date of joining IOC (International Olimpic Committee) by each country - from Wikipedia."
   ]
  },
  {
   "cell_type": "code",
   "execution_count": 19,
   "metadata": {},
   "outputs": [
    {
     "data": {
      "text/html": [
       "<div>\n",
       "<style scoped>\n",
       "    .dataframe tbody tr th:only-of-type {\n",
       "        vertical-align: middle;\n",
       "    }\n",
       "\n",
       "    .dataframe tbody tr th {\n",
       "        vertical-align: top;\n",
       "    }\n",
       "\n",
       "    .dataframe thead th {\n",
       "        text-align: right;\n",
       "    }\n",
       "</style>\n",
       "<table border=\"1\" class=\"dataframe\">\n",
       "  <thead>\n",
       "    <tr style=\"text-align: right;\">\n",
       "      <th></th>\n",
       "      <th>code</th>\n",
       "      <th>IOC_year</th>\n",
       "      <th>country</th>\n",
       "    </tr>\n",
       "  </thead>\n",
       "  <tbody>\n",
       "    <tr>\n",
       "      <th>0</th>\n",
       "      <td>AFG</td>\n",
       "      <td>1936</td>\n",
       "      <td>Afghanistan</td>\n",
       "    </tr>\n",
       "    <tr>\n",
       "      <th>1</th>\n",
       "      <td>ALB</td>\n",
       "      <td>1959</td>\n",
       "      <td>Albania</td>\n",
       "    </tr>\n",
       "    <tr>\n",
       "      <th>2</th>\n",
       "      <td>ALG</td>\n",
       "      <td>1964</td>\n",
       "      <td>Algeria</td>\n",
       "    </tr>\n",
       "    <tr>\n",
       "      <th>3</th>\n",
       "      <td>ASA</td>\n",
       "      <td>1987</td>\n",
       "      <td>American Samoa</td>\n",
       "    </tr>\n",
       "    <tr>\n",
       "      <th>4</th>\n",
       "      <td>AND</td>\n",
       "      <td>1975</td>\n",
       "      <td>Andorra</td>\n",
       "    </tr>\n",
       "  </tbody>\n",
       "</table>\n",
       "</div>"
      ],
      "text/plain": [
       "  code  IOC_year         country\n",
       "0  AFG      1936     Afghanistan\n",
       "1  ALB      1959         Albania\n",
       "2  ALG      1964         Algeria\n",
       "3  ASA      1987  American Samoa\n",
       "4  AND      1975         Andorra"
      ]
     },
     "execution_count": 19,
     "metadata": {},
     "output_type": "execute_result"
    }
   ],
   "source": [
    "ioc = pd.read_excel('data/IOC_joining.xlsx', engine='openpyxl')\n",
    "ioc.head()"
   ]
  },
  {
   "cell_type": "markdown",
   "metadata": {},
   "source": [
    "Calculate seniority of countries in the IOC, which was founded in 1894. "
   ]
  },
  {
   "cell_type": "code",
   "execution_count": 20,
   "metadata": {},
   "outputs": [
    {
     "data": {
      "text/html": [
       "<div>\n",
       "<style scoped>\n",
       "    .dataframe tbody tr th:only-of-type {\n",
       "        vertical-align: middle;\n",
       "    }\n",
       "\n",
       "    .dataframe tbody tr th {\n",
       "        vertical-align: top;\n",
       "    }\n",
       "\n",
       "    .dataframe thead th {\n",
       "        text-align: right;\n",
       "    }\n",
       "</style>\n",
       "<table border=\"1\" class=\"dataframe\">\n",
       "  <thead>\n",
       "    <tr style=\"text-align: right;\">\n",
       "      <th></th>\n",
       "      <th>name</th>\n",
       "      <th>nationality</th>\n",
       "      <th>sex</th>\n",
       "      <th>dob</th>\n",
       "      <th>height</th>\n",
       "      <th>weight</th>\n",
       "      <th>sport</th>\n",
       "      <th>gold</th>\n",
       "      <th>silver</th>\n",
       "      <th>bronze</th>\n",
       "      <th>Age</th>\n",
       "      <th>medal</th>\n",
       "      <th>code</th>\n",
       "      <th>continent</th>\n",
       "      <th>population</th>\n",
       "      <th>gdp_per_capita</th>\n",
       "      <th>IOC_year</th>\n",
       "      <th>IOC_seniority</th>\n",
       "    </tr>\n",
       "  </thead>\n",
       "  <tbody>\n",
       "    <tr>\n",
       "      <th>0</th>\n",
       "      <td>A Jesus Garcia</td>\n",
       "      <td>ESP</td>\n",
       "      <td>male</td>\n",
       "      <td>2069-10-17</td>\n",
       "      <td>1.72</td>\n",
       "      <td>64.0</td>\n",
       "      <td>athletics</td>\n",
       "      <td>0</td>\n",
       "      <td>0</td>\n",
       "      <td>0</td>\n",
       "      <td>52.0</td>\n",
       "      <td>0</td>\n",
       "      <td>ESP</td>\n",
       "      <td>Europe</td>\n",
       "      <td>46418269.0</td>\n",
       "      <td>25831.582305</td>\n",
       "      <td>1924.0</td>\n",
       "      <td>95.0</td>\n",
       "    </tr>\n",
       "    <tr>\n",
       "      <th>1</th>\n",
       "      <td>A Lam Shin</td>\n",
       "      <td>KOR</td>\n",
       "      <td>female</td>\n",
       "      <td>1986-09-23</td>\n",
       "      <td>1.68</td>\n",
       "      <td>56.0</td>\n",
       "      <td>fencing</td>\n",
       "      <td>0</td>\n",
       "      <td>0</td>\n",
       "      <td>0</td>\n",
       "      <td>35.0</td>\n",
       "      <td>0</td>\n",
       "      <td>KOR</td>\n",
       "      <td>NaN</td>\n",
       "      <td>50617045.0</td>\n",
       "      <td>27221.524051</td>\n",
       "      <td>1947.0</td>\n",
       "      <td>72.0</td>\n",
       "    </tr>\n",
       "    <tr>\n",
       "      <th>2</th>\n",
       "      <td>Aaron Brown</td>\n",
       "      <td>CAN</td>\n",
       "      <td>male</td>\n",
       "      <td>1992-05-27</td>\n",
       "      <td>1.98</td>\n",
       "      <td>79.0</td>\n",
       "      <td>athletics</td>\n",
       "      <td>0</td>\n",
       "      <td>0</td>\n",
       "      <td>1</td>\n",
       "      <td>29.0</td>\n",
       "      <td>1</td>\n",
       "      <td>CAN</td>\n",
       "      <td>North America</td>\n",
       "      <td>35851774.0</td>\n",
       "      <td>43248.529909</td>\n",
       "      <td>1907.0</td>\n",
       "      <td>112.0</td>\n",
       "    </tr>\n",
       "    <tr>\n",
       "      <th>3</th>\n",
       "      <td>Aaron Cook</td>\n",
       "      <td>MDA</td>\n",
       "      <td>male</td>\n",
       "      <td>1991-01-02</td>\n",
       "      <td>1.83</td>\n",
       "      <td>80.0</td>\n",
       "      <td>taekwondo</td>\n",
       "      <td>0</td>\n",
       "      <td>0</td>\n",
       "      <td>0</td>\n",
       "      <td>30.0</td>\n",
       "      <td>0</td>\n",
       "      <td>MDA</td>\n",
       "      <td>Europe</td>\n",
       "      <td>3554150.0</td>\n",
       "      <td>1848.061804</td>\n",
       "      <td>1993.0</td>\n",
       "      <td>26.0</td>\n",
       "    </tr>\n",
       "    <tr>\n",
       "      <th>4</th>\n",
       "      <td>Aaron Gate</td>\n",
       "      <td>NZL</td>\n",
       "      <td>male</td>\n",
       "      <td>1990-11-26</td>\n",
       "      <td>1.81</td>\n",
       "      <td>71.0</td>\n",
       "      <td>cycling</td>\n",
       "      <td>0</td>\n",
       "      <td>0</td>\n",
       "      <td>0</td>\n",
       "      <td>31.0</td>\n",
       "      <td>0</td>\n",
       "      <td>NZL</td>\n",
       "      <td>Oceania</td>\n",
       "      <td>4595700.0</td>\n",
       "      <td>37807.967276</td>\n",
       "      <td>1919.0</td>\n",
       "      <td>100.0</td>\n",
       "    </tr>\n",
       "  </tbody>\n",
       "</table>\n",
       "</div>"
      ],
      "text/plain": [
       "             name nationality     sex        dob  height  weight      sport  \\\n",
       "0  A Jesus Garcia         ESP    male 2069-10-17    1.72    64.0  athletics   \n",
       "1      A Lam Shin         KOR  female 1986-09-23    1.68    56.0    fencing   \n",
       "2     Aaron Brown         CAN    male 1992-05-27    1.98    79.0  athletics   \n",
       "3      Aaron Cook         MDA    male 1991-01-02    1.83    80.0  taekwondo   \n",
       "4      Aaron Gate         NZL    male 1990-11-26    1.81    71.0    cycling   \n",
       "\n",
       "   gold  silver  bronze   Age  medal code      continent  population  \\\n",
       "0     0       0       0  52.0      0  ESP         Europe  46418269.0   \n",
       "1     0       0       0  35.0      0  KOR            NaN  50617045.0   \n",
       "2     0       0       1  29.0      1  CAN  North America  35851774.0   \n",
       "3     0       0       0  30.0      0  MDA         Europe   3554150.0   \n",
       "4     0       0       0  31.0      0  NZL        Oceania   4595700.0   \n",
       "\n",
       "   gdp_per_capita  IOC_year  IOC_seniority  \n",
       "0    25831.582305    1924.0           95.0  \n",
       "1    27221.524051    1947.0           72.0  \n",
       "2    43248.529909    1907.0          112.0  \n",
       "3     1848.061804    1993.0           26.0  \n",
       "4    37807.967276    1919.0          100.0  "
      ]
     },
     "execution_count": 20,
     "metadata": {},
     "output_type": "execute_result"
    }
   ],
   "source": [
    "df = df.merge(ioc[['code', 'IOC_year']],\n",
    "              on='code',\n",
    "              how='left')\n",
    "df['IOC_seniority'] = 2019 - df['IOC_year']\n",
    "df.head()"
   ]
  },
  {
   "cell_type": "markdown",
   "metadata": {},
   "source": [
    "### Preparing final dataset\n",
    "Encoding categorical variables with [one-hot encoding](https://hackernoon.com/what-is-one-hot-encoding-why-and-when-do-you-have-to-use-it-e3c6186d008f)."
   ]
  },
  {
   "cell_type": "code",
   "execution_count": 21,
   "metadata": {},
   "outputs": [
    {
     "data": {
      "text/html": [
       "<div>\n",
       "<style scoped>\n",
       "    .dataframe tbody tr th:only-of-type {\n",
       "        vertical-align: middle;\n",
       "    }\n",
       "\n",
       "    .dataframe tbody tr th {\n",
       "        vertical-align: top;\n",
       "    }\n",
       "\n",
       "    .dataframe thead th {\n",
       "        text-align: right;\n",
       "    }\n",
       "</style>\n",
       "<table border=\"1\" class=\"dataframe\">\n",
       "  <thead>\n",
       "    <tr style=\"text-align: right;\">\n",
       "      <th></th>\n",
       "      <th>name</th>\n",
       "      <th>nationality</th>\n",
       "      <th>sex</th>\n",
       "      <th>dob</th>\n",
       "      <th>height</th>\n",
       "      <th>weight</th>\n",
       "      <th>sport</th>\n",
       "      <th>gold</th>\n",
       "      <th>silver</th>\n",
       "      <th>bronze</th>\n",
       "      <th>...</th>\n",
       "      <th>IOC_year</th>\n",
       "      <th>IOC_seniority</th>\n",
       "      <th>female</th>\n",
       "      <th>male</th>\n",
       "      <th>Africa</th>\n",
       "      <th>Asia</th>\n",
       "      <th>Europe</th>\n",
       "      <th>North America</th>\n",
       "      <th>Oceania</th>\n",
       "      <th>South America</th>\n",
       "    </tr>\n",
       "  </thead>\n",
       "  <tbody>\n",
       "    <tr>\n",
       "      <th>0</th>\n",
       "      <td>A Jesus Garcia</td>\n",
       "      <td>ESP</td>\n",
       "      <td>male</td>\n",
       "      <td>2069-10-17</td>\n",
       "      <td>1.72</td>\n",
       "      <td>64.0</td>\n",
       "      <td>athletics</td>\n",
       "      <td>0</td>\n",
       "      <td>0</td>\n",
       "      <td>0</td>\n",
       "      <td>...</td>\n",
       "      <td>1924.0</td>\n",
       "      <td>95.0</td>\n",
       "      <td>0</td>\n",
       "      <td>1</td>\n",
       "      <td>0</td>\n",
       "      <td>0</td>\n",
       "      <td>1</td>\n",
       "      <td>0</td>\n",
       "      <td>0</td>\n",
       "      <td>0</td>\n",
       "    </tr>\n",
       "    <tr>\n",
       "      <th>1</th>\n",
       "      <td>A Lam Shin</td>\n",
       "      <td>KOR</td>\n",
       "      <td>female</td>\n",
       "      <td>1986-09-23</td>\n",
       "      <td>1.68</td>\n",
       "      <td>56.0</td>\n",
       "      <td>fencing</td>\n",
       "      <td>0</td>\n",
       "      <td>0</td>\n",
       "      <td>0</td>\n",
       "      <td>...</td>\n",
       "      <td>1947.0</td>\n",
       "      <td>72.0</td>\n",
       "      <td>1</td>\n",
       "      <td>0</td>\n",
       "      <td>0</td>\n",
       "      <td>0</td>\n",
       "      <td>0</td>\n",
       "      <td>0</td>\n",
       "      <td>0</td>\n",
       "      <td>0</td>\n",
       "    </tr>\n",
       "    <tr>\n",
       "      <th>2</th>\n",
       "      <td>Aaron Brown</td>\n",
       "      <td>CAN</td>\n",
       "      <td>male</td>\n",
       "      <td>1992-05-27</td>\n",
       "      <td>1.98</td>\n",
       "      <td>79.0</td>\n",
       "      <td>athletics</td>\n",
       "      <td>0</td>\n",
       "      <td>0</td>\n",
       "      <td>1</td>\n",
       "      <td>...</td>\n",
       "      <td>1907.0</td>\n",
       "      <td>112.0</td>\n",
       "      <td>0</td>\n",
       "      <td>1</td>\n",
       "      <td>0</td>\n",
       "      <td>0</td>\n",
       "      <td>0</td>\n",
       "      <td>1</td>\n",
       "      <td>0</td>\n",
       "      <td>0</td>\n",
       "    </tr>\n",
       "    <tr>\n",
       "      <th>3</th>\n",
       "      <td>Aaron Cook</td>\n",
       "      <td>MDA</td>\n",
       "      <td>male</td>\n",
       "      <td>1991-01-02</td>\n",
       "      <td>1.83</td>\n",
       "      <td>80.0</td>\n",
       "      <td>taekwondo</td>\n",
       "      <td>0</td>\n",
       "      <td>0</td>\n",
       "      <td>0</td>\n",
       "      <td>...</td>\n",
       "      <td>1993.0</td>\n",
       "      <td>26.0</td>\n",
       "      <td>0</td>\n",
       "      <td>1</td>\n",
       "      <td>0</td>\n",
       "      <td>0</td>\n",
       "      <td>1</td>\n",
       "      <td>0</td>\n",
       "      <td>0</td>\n",
       "      <td>0</td>\n",
       "    </tr>\n",
       "    <tr>\n",
       "      <th>4</th>\n",
       "      <td>Aaron Gate</td>\n",
       "      <td>NZL</td>\n",
       "      <td>male</td>\n",
       "      <td>1990-11-26</td>\n",
       "      <td>1.81</td>\n",
       "      <td>71.0</td>\n",
       "      <td>cycling</td>\n",
       "      <td>0</td>\n",
       "      <td>0</td>\n",
       "      <td>0</td>\n",
       "      <td>...</td>\n",
       "      <td>1919.0</td>\n",
       "      <td>100.0</td>\n",
       "      <td>0</td>\n",
       "      <td>1</td>\n",
       "      <td>0</td>\n",
       "      <td>0</td>\n",
       "      <td>0</td>\n",
       "      <td>0</td>\n",
       "      <td>1</td>\n",
       "      <td>0</td>\n",
       "    </tr>\n",
       "  </tbody>\n",
       "</table>\n",
       "<p>5 rows × 26 columns</p>\n",
       "</div>"
      ],
      "text/plain": [
       "             name nationality     sex        dob  height  weight      sport  \\\n",
       "0  A Jesus Garcia         ESP    male 2069-10-17    1.72    64.0  athletics   \n",
       "1      A Lam Shin         KOR  female 1986-09-23    1.68    56.0    fencing   \n",
       "2     Aaron Brown         CAN    male 1992-05-27    1.98    79.0  athletics   \n",
       "3      Aaron Cook         MDA    male 1991-01-02    1.83    80.0  taekwondo   \n",
       "4      Aaron Gate         NZL    male 1990-11-26    1.81    71.0    cycling   \n",
       "\n",
       "   gold  silver  bronze  ...  IOC_year  IOC_seniority female male  Africa  \\\n",
       "0     0       0       0  ...    1924.0           95.0      0    1       0   \n",
       "1     0       0       0  ...    1947.0           72.0      1    0       0   \n",
       "2     0       0       1  ...    1907.0          112.0      0    1       0   \n",
       "3     0       0       0  ...    1993.0           26.0      0    1       0   \n",
       "4     0       0       0  ...    1919.0          100.0      0    1       0   \n",
       "\n",
       "   Asia  Europe  North America  Oceania  South America  \n",
       "0     0       1              0        0              0  \n",
       "1     0       0              0        0              0  \n",
       "2     0       0              1        0              0  \n",
       "3     0       1              0        0              0  \n",
       "4     0       0              0        1              0  \n",
       "\n",
       "[5 rows x 26 columns]"
      ]
     },
     "execution_count": 21,
     "metadata": {},
     "output_type": "execute_result"
    }
   ],
   "source": [
    "df = pd.concat([df,\n",
    "                pd.get_dummies(df['sex'], drop_first=False),\n",
    "                pd.get_dummies(df['continent'], drop_first=False)], axis=1)\n",
    "df.head()"
   ]
  },
  {
   "cell_type": "markdown",
   "metadata": {},
   "source": [
    "Let's drop encoded categorical columns and the rest which is unnecessary."
   ]
  },
  {
   "cell_type": "code",
   "execution_count": 22,
   "metadata": {},
   "outputs": [
    {
     "data": {
      "text/plain": [
       "Index(['height', 'weight', 'Age', 'medal', 'population', 'gdp_per_capita',\n",
       "       'IOC_seniority', 'female', 'male', 'Africa', 'Asia', 'Europe',\n",
       "       'North America', 'Oceania', 'South America'],\n",
       "      dtype='object')"
      ]
     },
     "execution_count": 22,
     "metadata": {},
     "output_type": "execute_result"
    }
   ],
   "source": [
    "df2 = df.drop(['name', 'dob', 'sex', 'sport', 'continent', 'nationality',\n",
    "               'code', 'IOC_year', 'gold', 'silver', 'bronze'], axis=1).dropna()\n",
    "df2.columns"
   ]
  },
  {
   "cell_type": "markdown",
   "metadata": {},
   "source": [
    "## Exploratory Analysis"
   ]
  },
  {
   "cell_type": "markdown",
   "metadata": {},
   "source": [
    "### Distributions"
   ]
  },
  {
   "cell_type": "code",
   "execution_count": 23,
   "metadata": {},
   "outputs": [
    {
     "data": {
      "text/plain": [
       "<matplotlib.axes._subplots.AxesSubplot at 0x212ef1aef60>"
      ]
     },
     "execution_count": 23,
     "metadata": {},
     "output_type": "execute_result"
    },
    {
     "data": {
      "image/png": "[encoded data removed]",
      "text/plain": [
       "<Figure size 576x576 with 1 Axes>"
      ]
     },
     "metadata": {},
     "output_type": "display_data"
    }
   ],
   "source": [
    "plt.figure(figsize=(8, 8), facecolor='w', edgecolor='k')\n",
    "sns.scatterplot(x='height', y='weight', data=df, hue='medal')"
   ]
  },
  {
   "cell_type": "code",
   "execution_count": 24,
   "metadata": {},
   "outputs": [
    {
     "data": {
      "text/plain": [
       "<matplotlib.axes._subplots.AxesSubplot at 0x212ef24e198>"
      ]
     },
     "execution_count": 24,
     "metadata": {},
     "output_type": "execute_result"
    },
    {
     "data": {
      "image/png": "[encoded data removed]",
      "text/plain": [
       "<Figure size 720x576 with 1 Axes>"
      ]
     },
     "metadata": {},
     "output_type": "display_data"
    }
   ],
   "source": [
    "plt.figure(figsize=(10, 8), facecolor='w', edgecolor='k')\n",
    "sns.boxplot(x='sex', y='Age', data=df, hue='medal')"
   ]
  },
  {
   "cell_type": "code",
   "execution_count": 25,
   "metadata": {},
   "outputs": [
    {
     "data": {
      "text/plain": [
       "<matplotlib.axes._subplots.AxesSubplot at 0x212ef285240>"
      ]
     },
     "execution_count": 25,
     "metadata": {},
     "output_type": "execute_result"
    },
    {
     "data": {
      "image/png": "[encoded data removed]",
      "text/plain": [
       "<Figure size 1080x576 with 1 Axes>"
      ]
     },
     "metadata": {},
     "output_type": "display_data"
    }
   ],
   "source": [
    "plt.figure(figsize=(15, 8), facecolor='w', edgecolor='k')\n",
    "sns.violinplot(x='continent', y='gdp_per_capita', data=df, hue='medal', split=True)"
   ]
  },
  {
   "cell_type": "markdown",
   "metadata": {},
   "source": [
    "This beautifully named violin plot shows that most of medals (red peaks) gain countries with high GDP per capita in North America and Oceania, a little lower in Europe and rather low in Africa, Asia and South America. This dependence is not suprising nor informative, as it generally presents GDP per capita distribution among continents. "
   ]
  },
  {
   "cell_type": "code",
   "execution_count": 26,
   "metadata": {},
   "outputs": [
    {
     "data": {
      "text/plain": [
       "<seaborn.axisgrid.JointGrid at 0x212ee947828>"
      ]
     },
     "execution_count": 26,
     "metadata": {},
     "output_type": "execute_result"
    },
    {
     "data": {
      "text/plain": [
       "<Figure size 576x576 with 0 Axes>"
      ]
     },
     "metadata": {},
     "output_type": "display_data"
    },
    {
     "data": {
      "image/png": "[encoded data removed]",
      "text/plain": [
       "<Figure size 432x432 with 3 Axes>"
      ]
     },
     "metadata": {
      "needs_background": "light"
     },
     "output_type": "display_data"
    }
   ],
   "source": [
    "plt.figure(figsize=(8, 8), facecolor='w', edgecolor='k')\n",
    "sns.jointplot(x='IOC_seniority', y='gdp_per_capita', data=df2)"
   ]
  },
  {
   "cell_type": "markdown",
   "metadata": {},
   "source": [
    "### Correlation heatmap."
   ]
  },
  {
   "cell_type": "code",
   "execution_count": 27,
   "metadata": {},
   "outputs": [
    {
     "data": {
      "text/plain": [
       "<matplotlib.axes._subplots.AxesSubplot at 0x212ef7262e8>"
      ]
     },
     "execution_count": 27,
     "metadata": {},
     "output_type": "execute_result"
    },
    {
     "data": {
      "image/png": "[encoded data removed]",
      "text/plain": [
       "<Figure size 432x432 with 2 Axes>"
      ]
     },
     "metadata": {
      "needs_background": "light"
     },
     "output_type": "display_data"
    }
   ],
   "source": [
    "plt.figure(figsize=(6, 6))\n",
    "corr_matrix2 = round(df2[['medal', 'height', 'weight', 'population', 'gdp_per_capita',\n",
    "                          'Age', 'IOC_seniority']].corr(), 2)\n",
    "mask = np.zeros_like(corr_matrix2, dtype=np.bool)\n",
    "mask[np.triu_indices_from(mask)] = True\n",
    "plt.title('Correlation heatmap')\n",
    "sns.heatmap(corr_matrix2, center=0, vmin=-1, vmax=1, annot=True, cmap=\"RdBu_r\", mask=mask)"
   ]
  },
  {
   "cell_type": "markdown",
   "metadata": {},
   "source": [
    "Correlation heatmap confirms what was presented in the distributions above. Height is clearly correlated with weight. For further usage in modelling one of them should be removed. Also gdp_per_capita is quite correlated with IOC_seniority, but it is less than 70% so I think I will keep them both."
   ]
  },
  {
   "cell_type": "markdown",
   "metadata": {},
   "source": [
    "# 1. Model: Support Vector Classifier"
   ]
  },
  {
   "cell_type": "markdown",
   "metadata": {},
   "source": [
    "In order to reach best result I will scale data and resample them using under-sampling to get similar number of 0 and 1 in target 'medal' column. Then I will divide dataset into train and test sets.\n",
    "- approach: [Under-sampling](https://imbalanced-learn.readthedocs.io/en/stable/generated/imblearn.under_sampling.RandomUnderSampler.html) "
   ]
  },
  {
   "cell_type": "code",
   "execution_count": 28,
   "metadata": {},
   "outputs": [
    {
     "name": "stderr",
     "output_type": "stream",
     "text": [
      "C:\\Users\\jp_ko\\Anaconda3\\lib\\site-packages\\sklearn\\utils\\deprecation.py:87: FutureWarning:\n",
      "\n",
      "Function safe_indexing is deprecated; safe_indexing is deprecated in version 0.22 and will be removed in version 0.24.\n",
      "\n"
     ]
    }
   ],
   "source": [
    "# 1. Scale data\n",
    "scaler = StandardScaler()\n",
    "scaled = scaler.fit_transform(df2.drop(['medal', 'weight'], axis=1))\n",
    "cols = df2.drop(['medal', 'weight'], axis=1).columns\n",
    "\n",
    "# 2. Divide into X and y sets\n",
    "X = pd.DataFrame(scaled, columns=cols)\n",
    "y = df2['medal']\n",
    "\n",
    "# 3. Resample data \n",
    "RUS = RandomUnderSampler(random_state=765, sampling_strategy=0.75) # because first Olympics are dated to 765 BC\n",
    "X_res, y_res = RUS.fit_resample(X, y)\n",
    "X2 = pd.DataFrame(X_res, columns=X.columns)\n",
    "y2 = y_res\n",
    "\n",
    "# 4. Divide into train and test sets\n",
    "X_train, X_test, y_train, y_test = train_test_split(X2, y2, test_size=0.30, random_state=765)"
   ]
  },
  {
   "cell_type": "markdown",
   "metadata": {},
   "source": [
    "Let's find best parameters of SVM and fit model."
   ]
  },
  {
   "cell_type": "code",
   "execution_count": 29,
   "metadata": {
    "scrolled": true
   },
   "outputs": [
    {
     "name": "stdout",
     "output_type": "stream",
     "text": [
      "Fitting 5 folds for each of 36 candidates, totalling 180 fits\n"
     ]
    },
    {
     "name": "stderr",
     "output_type": "stream",
     "text": [
      "[Parallel(n_jobs=4)]: Using backend LokyBackend with 4 concurrent workers.\n",
      "[Parallel(n_jobs=4)]: Done  33 tasks      | elapsed:    2.9s\n",
      "[Parallel(n_jobs=4)]: Done 154 tasks      | elapsed:   26.2s\n",
      "[Parallel(n_jobs=4)]: Done 180 out of 180 | elapsed:  1.0min finished\n",
      "C:\\Users\\jp_ko\\Anaconda3\\lib\\site-packages\\sklearn\\model_selection\\_search.py:823: FutureWarning:\n",
      "\n",
      "The parameter 'iid' is deprecated in 0.22 and will be removed in 0.24.\n",
      "\n"
     ]
    },
    {
     "data": {
      "text/plain": [
       "GridSearchCV(cv=5, error_score=nan,\n",
       "             estimator=SVC(C=1.0, break_ties=False, cache_size=200,\n",
       "                           class_weight=None, coef0=0.0,\n",
       "                           decision_function_shape='ovr', degree=3,\n",
       "                           gamma='scale', kernel='rbf', max_iter=-1,\n",
       "                           probability=False, random_state=None, shrinking=True,\n",
       "                           tol=0.001, verbose=False),\n",
       "             iid=False, n_jobs=4,\n",
       "             param_grid={'C': [0.1, 1, 10, 100, 1000, 10000],\n",
       "                         'gamma': [1, 0.1, 0.01, 0.001, 0.0001, 1e-05],\n",
       "                         'kernel': ['rbf']},\n",
       "             pre_dispatch='2*n_jobs', refit=True, return_train_score=False,\n",
       "             scoring='precision', verbose=2)"
      ]
     },
     "execution_count": 29,
     "metadata": {},
     "output_type": "execute_result"
    }
   ],
   "source": [
    "model = SVC()\n",
    "\n",
    "param_grid = {'C': [0.1,1, 10, 100, 1000, 10000], 'gamma': [1, 0.1, 0.01, 0.001, 0.0001, 0.00001],\n",
    "              'kernel': ['rbf']} \n",
    "\n",
    "grid = GridSearchCV(estimator = SVC(), param_grid = param_grid, refit=True, verbose=2,\n",
    "                    scoring='precision', n_jobs=4, iid=False, cv=5)\n",
    "grid.fit(X_train, y_train)"
   ]
  },
  {
   "cell_type": "code",
   "execution_count": 30,
   "metadata": {},
   "outputs": [
    {
     "name": "stdout",
     "output_type": "stream",
     "text": [
      "{'C': 0.1, 'gamma': 0.01, 'kernel': 'rbf'}\n",
      "SVC(C=0.1, break_ties=False, cache_size=200, class_weight=None, coef0=0.0,\n",
      "    decision_function_shape='ovr', degree=3, gamma=0.01, kernel='rbf',\n",
      "    max_iter=-1, probability=False, random_state=None, shrinking=True,\n",
      "    tol=0.001, verbose=False)\n"
     ]
    }
   ],
   "source": [
    "print(grid.best_params_)\n",
    "print(grid.best_estimator_)"
   ]
  },
  {
   "cell_type": "markdown",
   "metadata": {},
   "source": [
    "- Predict values for test set"
   ]
  },
  {
   "cell_type": "code",
   "execution_count": 31,
   "metadata": {},
   "outputs": [
    {
     "name": "stdout",
     "output_type": "stream",
     "text": [
      "Confusion matrix:\n",
      " [[652  31]\n",
      " [405  68]]\n",
      "\n",
      "Classification stats:\n",
      "               precision    recall  f1-score   support\n",
      "\n",
      "           0       0.62      0.95      0.75       683\n",
      "           1       0.69      0.14      0.24       473\n",
      "\n",
      "    accuracy                           0.62      1156\n",
      "   macro avg       0.65      0.55      0.49      1156\n",
      "weighted avg       0.65      0.62      0.54      1156\n",
      "\n"
     ]
    }
   ],
   "source": [
    "y_pred = grid.best_estimator_.predict(X_test)\n",
    "\n",
    "from sklearn.metrics import confusion_matrix, classification_report\n",
    "print(\"Confusion matrix:\\n\", confusion_matrix(y_test, y_pred))\n",
    "print(\"\\nClassification stats:\\n\", classification_report(y_test, y_pred))"
   ]
  },
  {
   "cell_type": "markdown",
   "metadata": {},
   "source": [
    "- 65% accuracy is not bad, but let's try do better with another model"
   ]
  },
  {
   "cell_type": "markdown",
   "metadata": {},
   "source": [
    "# 2. Model: Gradient Boosting Classifier\n",
    "\n",
    "I will procede on the same train and test datasets as above."
   ]
  },
  {
   "cell_type": "code",
   "execution_count": 32,
   "metadata": {
    "scrolled": true
   },
   "outputs": [
    {
     "name": "stdout",
     "output_type": "stream",
     "text": [
      "Fitting 5 folds for each of 180 candidates, totalling 900 fits\n"
     ]
    },
    {
     "name": "stderr",
     "output_type": "stream",
     "text": [
      "[Parallel(n_jobs=4)]: Using backend LokyBackend with 4 concurrent workers.\n",
      "[Parallel(n_jobs=4)]: Done  58 tasks      | elapsed:    3.2s\n",
      "[Parallel(n_jobs=4)]: Done 300 tasks      | elapsed:   15.8s\n",
      "[Parallel(n_jobs=4)]: Done 706 tasks      | elapsed:   42.0s\n",
      "[Parallel(n_jobs=4)]: Done 900 out of 900 | elapsed:   57.2s finished\n",
      "C:\\Users\\jp_ko\\Anaconda3\\lib\\site-packages\\sklearn\\model_selection\\_search.py:823: FutureWarning:\n",
      "\n",
      "The parameter 'iid' is deprecated in 0.22 and will be removed in 0.24.\n",
      "\n"
     ]
    },
    {
     "data": {
      "text/plain": [
       "GridSearchCV(cv=5, error_score=nan,\n",
       "             estimator=GradientBoostingClassifier(ccp_alpha=0.0,\n",
       "                                                  criterion='friedman_mse',\n",
       "                                                  init=None, learning_rate=0.1,\n",
       "                                                  loss='deviance', max_depth=3,\n",
       "                                                  max_features=None,\n",
       "                                                  max_leaf_nodes=None,\n",
       "                                                  min_impurity_decrease=0.0,\n",
       "                                                  min_impurity_split=None,\n",
       "                                                  min_samples_leaf=1,\n",
       "                                                  min_samples_split=2,\n",
       "                                                  min_weight_fraction_leaf=0.0,\n",
       "                                                  n_estimators=100,\n",
       "                                                  n_iter_no_c...\n",
       "                                                  presort='deprecated',\n",
       "                                                  random_state=None,\n",
       "                                                  subsample=1.0, tol=0.0001,\n",
       "                                                  validation_fraction=0.1,\n",
       "                                                  verbose=0, warm_start=False),\n",
       "             iid=False, n_jobs=4,\n",
       "             param_grid={'max_depth': [3, 4, 5, 6],\n",
       "                         'min_samples_leaf': range(20, 50, 10),\n",
       "                         'min_samples_split': range(30, 60, 10),\n",
       "                         'n_estimators': range(50, 100, 10)},\n",
       "             pre_dispatch='2*n_jobs', refit=True, return_train_score=False,\n",
       "             scoring='precision', verbose=2)"
      ]
     },
     "execution_count": 32,
     "metadata": {},
     "output_type": "execute_result"
    }
   ],
   "source": [
    "GBC = GradientBoostingClassifier(verbose=0)\n",
    "\n",
    "param_grid_2 = {'n_estimators': range(50, 100, 10),\n",
    "               'max_depth': [3, 4, 5, 6],\n",
    "               'min_samples_split': range(30, 60, 10), \n",
    "               'min_samples_leaf': range(20, 50, 10)}\n",
    "\n",
    "grid_2 = GridSearchCV(estimator = GBC, refit=True, verbose=2,\n",
    "                      param_grid = param_grid_2,\n",
    "                      scoring='precision', n_jobs=4, iid=False, cv=5)\n",
    "\n",
    "grid_2.fit(X_train, y_train)"
   ]
  },
  {
   "cell_type": "code",
   "execution_count": 33,
   "metadata": {},
   "outputs": [
    {
     "name": "stdout",
     "output_type": "stream",
     "text": [
      "{'max_depth': 5, 'min_samples_leaf': 30, 'min_samples_split': 50, 'n_estimators': 90}\n",
      "GradientBoostingClassifier(ccp_alpha=0.0, criterion='friedman_mse', init=None,\n",
      "                           learning_rate=0.1, loss='deviance', max_depth=5,\n",
      "                           max_features=None, max_leaf_nodes=None,\n",
      "                           min_impurity_decrease=0.0, min_impurity_split=None,\n",
      "                           min_samples_leaf=30, min_samples_split=50,\n",
      "                           min_weight_fraction_leaf=0.0, n_estimators=90,\n",
      "                           n_iter_no_change=None, presort='deprecated',\n",
      "                           random_state=None, subsample=1.0, tol=0.0001,\n",
      "                           validation_fraction=0.1, verbose=0,\n",
      "                           warm_start=False)\n"
     ]
    }
   ],
   "source": [
    "print(grid_2.best_params_)\n",
    "print(grid_2.best_estimator_)"
   ]
  },
  {
   "cell_type": "code",
   "execution_count": 34,
   "metadata": {},
   "outputs": [
    {
     "name": "stdout",
     "output_type": "stream",
     "text": [
      "Confusion matrix:\n",
      " [[532 151]\n",
      " [195 278]]\n",
      "\n",
      "Classification stats:\n",
      "               precision    recall  f1-score   support\n",
      "\n",
      "           0       0.73      0.78      0.75       683\n",
      "           1       0.65      0.59      0.62       473\n",
      "\n",
      "    accuracy                           0.70      1156\n",
      "   macro avg       0.69      0.68      0.69      1156\n",
      "weighted avg       0.70      0.70      0.70      1156\n",
      "\n"
     ]
    }
   ],
   "source": [
    "y_pred2 = grid_2.best_estimator_.predict(X_test)\n",
    "\n",
    "from sklearn.metrics import confusion_matrix, classification_report\n",
    "print(\"Confusion matrix:\\n\", confusion_matrix(y_test, y_pred2))\n",
    "print(\"\\nClassification stats:\\n\", classification_report(y_test, y_pred2))"
   ]
  },
  {
   "cell_type": "markdown",
   "metadata": {},
   "source": [
    "- 70% is better. Now let's inspect what are the most impactful features."
   ]
  },
  {
   "cell_type": "code",
   "execution_count": 35,
   "metadata": {},
   "outputs": [
    {
     "name": "stdout",
     "output_type": "stream",
     "text": [
      "1. IOC_seniority (0.226364)\n",
      "2. height (0.222903)\n",
      "3. gdp_per_capita (0.221977)\n",
      "4. population (0.159267)\n",
      "5. Age (0.098577)\n",
      "6. female (0.021425)\n",
      "7. South America (0.015026)\n",
      "8. Europe (0.010525)\n",
      "9. male (0.010039)\n",
      "10. Asia (0.009766)\n",
      "11. Oceania (0.002173)\n",
      "12. North America (0.001744)\n",
      "13. Africa (0.000215)\n"
     ]
    },
    {
     "data": {
      "image/png": "[encoded data removed]",
      "text/plain": [
       "<Figure size 576x432 with 1 Axes>"
      ]
     },
     "metadata": {
      "needs_background": "light"
     },
     "output_type": "display_data"
    },
    {
     "name": "stdout",
     "output_type": "stream",
     "text": [
      "Mean Feature Importance 0.076923 \n",
      "\n"
     ]
    }
   ],
   "source": [
    "def report_top_feat(data_set, features, top = 15):\n",
    "    indices = np.argsort(features)[::-1]\n",
    "    for f in range(top):\n",
    "        print(\"%d. %s (%f)\" % (f + 1, data_set.columns[indices[f]], features[indices[f]]))\n",
    "    \n",
    "    indices=indices[:top]\n",
    "    plt.figure(figsize=[8, 6])\n",
    "    plt.title(\"Top features for scoring a medal\")\n",
    "    plt.bar(range(top), features[indices], color=\"r\", align=\"center\")\n",
    "    plt.xticks(range(top), data_set.columns[indices], fontsize=14, rotation=90)\n",
    "    plt.xlim([-1, top])\n",
    "#     plt.savefig(\"Top %d Feature importances for %s.png\" % (top, c))\n",
    "    plt.show()\n",
    "    print(\"Mean Feature Importance %.6f\" %np.mean(features), '\\n')\n",
    "\n",
    "\n",
    "features = grid_2.best_estimator_.feature_importances_\n",
    "report_top_feat(X_test, features, X_test.columns.size)"
   ]
  },
  {
   "cell_type": "markdown",
   "metadata": {},
   "source": [
    "Interesting but intuitive - big and rich countries have more medal winners than the poor ones. Out of features related to athlete himself height and Age are quite important, which is also reasonable. "
   ]
  },
  {
   "cell_type": "markdown",
   "metadata": {},
   "source": [
    "# 3. Model: Gradient Boosting Classifier with over-sampling\n",
    "\n",
    "Let's try the same model just using different resampling method."
   ]
  },
  {
   "cell_type": "code",
   "execution_count": 36,
   "metadata": {},
   "outputs": [
    {
     "name": "stderr",
     "output_type": "stream",
     "text": [
      "C:\\Users\\jp_ko\\Anaconda3\\lib\\site-packages\\sklearn\\utils\\deprecation.py:87: FutureWarning:\n",
      "\n",
      "Function safe_indexing is deprecated; safe_indexing is deprecated in version 0.22 and will be removed in version 0.24.\n",
      "\n"
     ]
    }
   ],
   "source": [
    "sm = SMOTE(random_state=765, sampling_strategy='minority')\n",
    "X_res, y_res = sm.fit_resample(X, y)\n",
    "X2 = pd.DataFrame(X_res, columns=X_train.columns)\n",
    "y2 = y_res\n",
    "\n",
    "X_train, X_test, y_train, y_test = train_test_split(X2, y2, test_size=0.30, random_state=765)"
   ]
  },
  {
   "cell_type": "code",
   "execution_count": 37,
   "metadata": {},
   "outputs": [
    {
     "data": {
      "text/plain": [
       "((16910, 13), (11837, 13))"
      ]
     },
     "execution_count": 37,
     "metadata": {},
     "output_type": "execute_result"
    }
   ],
   "source": [
    "X2.shape, X_train.shape"
   ]
  },
  {
   "cell_type": "code",
   "execution_count": 38,
   "metadata": {},
   "outputs": [
    {
     "name": "stdout",
     "output_type": "stream",
     "text": [
      "Fitting 5 folds for each of 180 candidates, totalling 900 fits\n"
     ]
    },
    {
     "name": "stderr",
     "output_type": "stream",
     "text": [
      "[Parallel(n_jobs=4)]: Using backend LokyBackend with 4 concurrent workers.\n",
      "[Parallel(n_jobs=4)]: Done  33 tasks      | elapsed:    6.4s\n",
      "[Parallel(n_jobs=4)]: Done 154 tasks      | elapsed:   31.9s\n",
      "[Parallel(n_jobs=4)]: Done 357 tasks      | elapsed:  1.3min\n",
      "[Parallel(n_jobs=4)]: Done 640 tasks      | elapsed:  2.7min\n",
      "[Parallel(n_jobs=4)]: Done 900 out of 900 | elapsed:  4.3min finished\n",
      "C:\\Users\\jp_ko\\Anaconda3\\lib\\site-packages\\sklearn\\model_selection\\_search.py:823: FutureWarning:\n",
      "\n",
      "The parameter 'iid' is deprecated in 0.22 and will be removed in 0.24.\n",
      "\n"
     ]
    },
    {
     "data": {
      "text/plain": [
       "GridSearchCV(cv=5, error_score=nan,\n",
       "             estimator=GradientBoostingClassifier(ccp_alpha=0.0,\n",
       "                                                  criterion='friedman_mse',\n",
       "                                                  init=None, learning_rate=0.1,\n",
       "                                                  loss='deviance', max_depth=3,\n",
       "                                                  max_features=None,\n",
       "                                                  max_leaf_nodes=None,\n",
       "                                                  min_impurity_decrease=0.0,\n",
       "                                                  min_impurity_split=None,\n",
       "                                                  min_samples_leaf=1,\n",
       "                                                  min_samples_split=2,\n",
       "                                                  min_weight_fraction_leaf=0.0,\n",
       "                                                  n_estimators=100,\n",
       "                                                  n_iter_no_c...\n",
       "                                                  presort='deprecated',\n",
       "                                                  random_state=None,\n",
       "                                                  subsample=1.0, tol=0.0001,\n",
       "                                                  validation_fraction=0.1,\n",
       "                                                  verbose=0, warm_start=False),\n",
       "             iid=False, n_jobs=4,\n",
       "             param_grid={'max_depth': [3, 4, 5, 6],\n",
       "                         'min_samples_leaf': range(20, 50, 10),\n",
       "                         'min_samples_split': range(30, 60, 10),\n",
       "                         'n_estimators': range(50, 100, 10)},\n",
       "             pre_dispatch='2*n_jobs', refit=True, return_train_score=False,\n",
       "             scoring='precision', verbose=2)"
      ]
     },
     "execution_count": 38,
     "metadata": {},
     "output_type": "execute_result"
    }
   ],
   "source": [
    "GBC_2 = GradientBoostingClassifier(verbose=0)\n",
    "\n",
    "param_grid_3 = {'n_estimators': range(50, 100, 10),\n",
    "               'max_depth': [3, 4, 5, 6],\n",
    "               'min_samples_split': range(30, 60, 10), \n",
    "               'min_samples_leaf': range(20, 50, 10)}\n",
    "\n",
    "grid_3 = GridSearchCV(estimator = GBC_2, refit=True, verbose=2,\n",
    "                      param_grid = param_grid_3,\n",
    "                      scoring='precision', n_jobs=4, iid=False, cv=5)\n",
    "\n",
    "grid_3.fit(X_train, y_train)"
   ]
  },
  {
   "cell_type": "code",
   "execution_count": 39,
   "metadata": {},
   "outputs": [
    {
     "name": "stdout",
     "output_type": "stream",
     "text": [
      "{'max_depth': 6, 'min_samples_leaf': 40, 'min_samples_split': 30, 'n_estimators': 90}\n",
      "0.8866300725465524\n"
     ]
    }
   ],
   "source": [
    "print(grid_3.best_params_)\n",
    "print(grid_3.best_score_)"
   ]
  },
  {
   "cell_type": "code",
   "execution_count": 40,
   "metadata": {},
   "outputs": [
    {
     "name": "stdout",
     "output_type": "stream",
     "text": [
      "Confusion matrix:\n",
      " [[2288  275]\n",
      " [ 457 2053]]\n",
      "\n",
      "Classification stats:\n",
      "               precision    recall  f1-score   support\n",
      "\n",
      "           0       0.83      0.89      0.86      2563\n",
      "           1       0.88      0.82      0.85      2510\n",
      "\n",
      "    accuracy                           0.86      5073\n",
      "   macro avg       0.86      0.86      0.86      5073\n",
      "weighted avg       0.86      0.86      0.86      5073\n",
      "\n"
     ]
    }
   ],
   "source": [
    "y_pred3 = grid_3.best_estimator_.predict(X_test)\n",
    "\n",
    "from sklearn.metrics import confusion_matrix, classification_report\n",
    "print(\"Confusion matrix:\\n\", confusion_matrix(y_test, y_pred3))\n",
    "print(\"\\nClassification stats:\\n\", classification_report(y_test, y_pred3))"
   ]
  },
  {
   "cell_type": "markdown",
   "metadata": {},
   "source": [
    "- 86% is way better! "
   ]
  },
  {
   "cell_type": "code",
   "execution_count": 41,
   "metadata": {
    "scrolled": false
   },
   "outputs": [
    {
     "name": "stdout",
     "output_type": "stream",
     "text": [
      "1. Age (0.351652)\n",
      "2. height (0.164245)\n",
      "3. gdp_per_capita (0.162915)\n",
      "4. population (0.146558)\n",
      "5. IOC_seniority (0.136182)\n",
      "6. male (0.011345)\n",
      "7. female (0.008454)\n",
      "8. Europe (0.006733)\n",
      "9. South America (0.003746)\n",
      "10. Asia (0.003041)\n",
      "11. North America (0.002882)\n",
      "12. Africa (0.001778)\n",
      "13. Oceania (0.000470)\n"
     ]
    },
    {
     "data": {
      "image/png": "[encoded data removed]",
      "text/plain": [
       "<Figure size 576x432 with 1 Axes>"
      ]
     },
     "metadata": {
      "needs_background": "light"
     },
     "output_type": "display_data"
    },
    {
     "name": "stdout",
     "output_type": "stream",
     "text": [
      "Mean Feature Importance 0.076923 \n",
      "\n"
     ]
    }
   ],
   "source": [
    "features = grid_3.best_estimator_.feature_importances_\n",
    "report_top_feat(X_test, features, X_test.columns.size)"
   ]
  },
  {
   "cell_type": "markdown",
   "metadata": {},
   "source": [
    "This model shows Age as the most important feature, which is interesting but I leave it to another analysis to inspect why is that. "
   ]
  },
  {
   "cell_type": "code",
   "execution_count": null,
   "metadata": {},
   "outputs": [],
   "source": []
  }
 ],
 "metadata": {
  "kernelspec": {
   "display_name": "Python 3",
   "language": "python",
   "name": "python3"
  },
  "language_info": {
   "codemirror_mode": {
    "name": "ipython",
    "version": 3
   },
   "file_extension": ".py",
   "mimetype": "text/x-python",
   "name": "python",
   "nbconvert_exporter": "python",
   "pygments_lexer": "ipython3",
   "version": "3.6.5"
  }
 },
 "nbformat": 4,
 "nbformat_minor": 2
}
