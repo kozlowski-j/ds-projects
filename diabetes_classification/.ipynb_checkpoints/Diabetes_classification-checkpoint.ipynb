{
 "cells": [
  {
   "cell_type": "markdown",
   "metadata": {},
   "source": [
    "### Exercise 2: Diabetes Examination\n",
    "\n",
    "1. file \"diabetes.csv\", the explanatory variable is \"Outcome\", if 1 - sick patient, 0 - healthy patient.\n",
    "2. Look at the set carefully, verify if there are any outliers - if so, remove them.\n",
    "3. Replace any missing values.\n",
    "4. Select variables that may be relevant, or create new variables based on others (get_dummies).\n",
    "5. Test the learned classifiers - Logistic Regression, Decision Tree, Naive Bayes, SVM, KNN and RandomForest.\n",
    "6. Select the best set of parameters for each classifier.\n",
    "7. Select the best of the classifiers based on the test set."
   ]
  },
  {
   "cell_type": "markdown",
   "metadata": {},
   "source": [
    "# 0. Import libraries"
   ]
  },
  {
   "cell_type": "code",
   "execution_count": 107,
   "metadata": {},
   "outputs": [],
   "source": [
    "import numpy as np\n",
    "import pandas as pd\n",
    "from scipy import stats\n",
    "\n",
    "from sklearn.linear_model import LogisticRegression\n",
    "from sklearn.tree import DecisionTreeClassifier\n",
    "from sklearn.ensemble import RandomForestClassifier, BaggingClassifier\n",
    "from sklearn.svm import SVC\n",
    "from sklearn.naive_bayes import MultinomialNB\n",
    "\n",
    "from sklearn.preprocessing import OneHotEncoder, StandardScaler\n",
    "from sklearn.pipeline import Pipeline\n",
    "from sklearn.model_selection import GridSearchCV, train_test_split\n",
    "\n",
    "from pandas_profiling import ProfileReport\n",
    "import matplotlib.pyplot as plt\n",
    "%matplotlib inline"
   ]
  },
  {
   "cell_type": "markdown",
   "metadata": {},
   "source": [
    "# 1. Import and prepare data"
   ]
  },
  {
   "cell_type": "code",
   "execution_count": 95,
   "metadata": {},
   "outputs": [
    {
     "data": {
      "text/html": [
       "<div>\n",
       "<style scoped>\n",
       "    .dataframe tbody tr th:only-of-type {\n",
       "        vertical-align: middle;\n",
       "    }\n",
       "\n",
       "    .dataframe tbody tr th {\n",
       "        vertical-align: top;\n",
       "    }\n",
       "\n",
       "    .dataframe thead th {\n",
       "        text-align: right;\n",
       "    }\n",
       "</style>\n",
       "<table border=\"1\" class=\"dataframe\">\n",
       "  <thead>\n",
       "    <tr style=\"text-align: right;\">\n",
       "      <th></th>\n",
       "      <th>Pregnancies</th>\n",
       "      <th>Glucose</th>\n",
       "      <th>BloodPressure</th>\n",
       "      <th>SkinThickness</th>\n",
       "      <th>Insulin</th>\n",
       "      <th>BMI</th>\n",
       "      <th>Age</th>\n",
       "      <th>Outcome</th>\n",
       "      <th>Continent</th>\n",
       "    </tr>\n",
       "  </thead>\n",
       "  <tbody>\n",
       "    <tr>\n",
       "      <td>0</td>\n",
       "      <td>6</td>\n",
       "      <td>148</td>\n",
       "      <td>72</td>\n",
       "      <td>35</td>\n",
       "      <td>0</td>\n",
       "      <td>33.6</td>\n",
       "      <td>50</td>\n",
       "      <td>1</td>\n",
       "      <td>Europe</td>\n",
       "    </tr>\n",
       "    <tr>\n",
       "      <td>1</td>\n",
       "      <td>1</td>\n",
       "      <td>85</td>\n",
       "      <td>66</td>\n",
       "      <td>29</td>\n",
       "      <td>0</td>\n",
       "      <td>26.6</td>\n",
       "      <td>31</td>\n",
       "      <td>0</td>\n",
       "      <td>Europe</td>\n",
       "    </tr>\n",
       "    <tr>\n",
       "      <td>2</td>\n",
       "      <td>8</td>\n",
       "      <td>183</td>\n",
       "      <td>64</td>\n",
       "      <td>0</td>\n",
       "      <td>0</td>\n",
       "      <td>23.3</td>\n",
       "      <td>32</td>\n",
       "      <td>1</td>\n",
       "      <td>Asia</td>\n",
       "    </tr>\n",
       "    <tr>\n",
       "      <td>3</td>\n",
       "      <td>1</td>\n",
       "      <td>89</td>\n",
       "      <td>66</td>\n",
       "      <td>23</td>\n",
       "      <td>94</td>\n",
       "      <td>28.1</td>\n",
       "      <td>21</td>\n",
       "      <td>0</td>\n",
       "      <td>America</td>\n",
       "    </tr>\n",
       "    <tr>\n",
       "      <td>4</td>\n",
       "      <td>0</td>\n",
       "      <td>137</td>\n",
       "      <td>40</td>\n",
       "      <td>35</td>\n",
       "      <td>168</td>\n",
       "      <td>43.1</td>\n",
       "      <td>33</td>\n",
       "      <td>1</td>\n",
       "      <td>America</td>\n",
       "    </tr>\n",
       "  </tbody>\n",
       "</table>\n",
       "</div>"
      ],
      "text/plain": [
       "   Pregnancies  Glucose  BloodPressure  SkinThickness  Insulin   BMI  Age  \\\n",
       "0  6            148      72             35             0        33.6  50    \n",
       "1  1            85       66             29             0        26.6  31    \n",
       "2  8            183      64             0              0        23.3  32    \n",
       "3  1            89       66             23             94       28.1  21    \n",
       "4  0            137      40             35             168      43.1  33    \n",
       "\n",
       "   Outcome Continent  \n",
       "0  1        Europe    \n",
       "1  0        Europe    \n",
       "2  1        Asia      \n",
       "3  0        America   \n",
       "4  1        America   "
      ]
     },
     "execution_count": 95,
     "metadata": {},
     "output_type": "execute_result"
    }
   ],
   "source": [
    "df = pd.read_csv('Dane/diabetes.csv')\n",
    "df.head()"
   ]
  },
  {
   "cell_type": "markdown",
   "metadata": {},
   "source": [
    "## 1.1. EDA"
   ]
  },
  {
   "cell_type": "code",
   "execution_count": 31,
   "metadata": {},
   "outputs": [
    {
     "name": "stderr",
     "output_type": "stream",
     "text": [
      "/home/kodolamacz/anaconda3/lib/python3.7/site-packages/pandas_profiling/describe.py:392: FutureWarning: The join_axes-keyword is deprecated. Use .reindex or .reindex_like on the result to achieve the same functionality.\n",
      "  variable_stats = pd.concat(ldesc, join_axes=pd.Index([names]), axis=1)\n"
     ]
    }
   ],
   "source": [
    "profile = ProfileReport(df)\n",
    "profile.to_file(outputfile=\"diabetes_report.html\")"
   ]
  },
  {
   "cell_type": "markdown",
   "metadata": {},
   "source": [
    "## 1.2. Feature engineering"
   ]
  },
  {
   "cell_type": "markdown",
   "metadata": {},
   "source": [
    "- Pregnancies - change number of categories into 3 instead od 13"
   ]
  },
  {
   "cell_type": "code",
   "execution_count": 96,
   "metadata": {},
   "outputs": [
    {
     "data": {
      "text/plain": [
       "C    276\n",
       "B    246\n",
       "A    246\n",
       "Name: Pregnancies_cat, dtype: int64"
      ]
     },
     "execution_count": 96,
     "metadata": {},
     "output_type": "execute_result"
    }
   ],
   "source": [
    "\n",
    "df['Pregnancies_cat'] = np.where(df['Pregnancies'] < 2, 'A',\n",
    "                                 np.where(df['Pregnancies'] > 4, 'C',\n",
    "                                          'B'))\n",
    "df['Pregnancies_cat'] = df['Pregnancies_cat'].astype('category')\n",
    "df['Pregnancies_cat'].value_counts()"
   ]
  },
  {
   "cell_type": "markdown",
   "metadata": {},
   "source": [
    "- Glucose - impute missing values by mean"
   ]
  },
  {
   "cell_type": "code",
   "execution_count": 97,
   "metadata": {},
   "outputs": [
    {
     "data": {
      "text/plain": [
       "<matplotlib.axes._subplots.AxesSubplot at 0x7f1d83c16750>"
      ]
     },
     "execution_count": 97,
     "metadata": {},
     "output_type": "execute_result"
    },
    {
     "data": {
      "image/png": "[encoded data removed]",
      "text/plain": [
       "<Figure size 432x288 with 1 Axes>"
      ]
     },
     "metadata": {
      "needs_background": "light"
     },
     "output_type": "display_data"
    }
   ],
   "source": [
    "df['Glucose'] = np.where(df['Glucose'] < 1,\n",
    "                         df['Glucose'].mean(),\n",
    "                         df['Glucose'])\n",
    "df['Glucose'].hist()"
   ]
  },
  {
   "cell_type": "markdown",
   "metadata": {},
   "source": [
    "- BloodPressure - impute missing values by mean"
   ]
  },
  {
   "cell_type": "code",
   "execution_count": 164,
   "metadata": {},
   "outputs": [
    {
     "data": {
      "text/plain": [
       "<matplotlib.axes._subplots.AxesSubplot at 0x7f1d829c9210>"
      ]
     },
     "execution_count": 164,
     "metadata": {},
     "output_type": "execute_result"
    },
    {
     "data": {
      "image/png": "[encoded data removed]",
      "text/plain": [
       "<Figure size 432x288 with 1 Axes>"
      ]
     },
     "metadata": {
      "needs_background": "light"
     },
     "output_type": "display_data"
    }
   ],
   "source": [
    "df['BloodPressure'] = np.where(df['BloodPressure'] == 0,\n",
    "                               df['BloodPressure'].mean(),\n",
    "                               df['BloodPressure'])\n",
    "df['BloodPressure'].hist()"
   ]
  },
  {
   "cell_type": "markdown",
   "metadata": {},
   "source": [
    "- SkinThickness - impute missing by mean, and take logarithm"
   ]
  },
  {
   "cell_type": "code",
   "execution_count": 100,
   "metadata": {},
   "outputs": [
    {
     "data": {
      "text/plain": [
       "<matplotlib.axes._subplots.AxesSubplot at 0x7f1d83af1290>"
      ]
     },
     "execution_count": 100,
     "metadata": {},
     "output_type": "execute_result"
    },
    {
     "data": {
      "image/png": "[encoded data removed]",
      "text/plain": [
       "<Figure size 432x288 with 1 Axes>"
      ]
     },
     "metadata": {
      "needs_background": "light"
     },
     "output_type": "display_data"
    }
   ],
   "source": [
    "df['SkinThickness'] = np.where(df['SkinThickness'] == 0,\n",
    "                               df['SkinThickness'].median(),\n",
    "                               df['SkinThickness'])\n",
    "df['SkinThickness'] = np.log(df['SkinThickness'])\n",
    "df['SkinThickness'].hist()"
   ]
  },
  {
   "cell_type": "markdown",
   "metadata": {},
   "source": [
    "- BMI - drop wrong values, and take logarithm"
   ]
  },
  {
   "cell_type": "code",
   "execution_count": 104,
   "metadata": {},
   "outputs": [
    {
     "data": {
      "text/plain": [
       "<matplotlib.axes._subplots.AxesSubplot at 0x7f1d838c30d0>"
      ]
     },
     "execution_count": 104,
     "metadata": {},
     "output_type": "execute_result"
    },
    {
     "data": {
      "image/png": "[encoded data removed]",
      "text/plain": [
       "<Figure size 432x288 with 1 Axes>"
      ]
     },
     "metadata": {
      "needs_background": "light"
     },
     "output_type": "display_data"
    }
   ],
   "source": [
    "df = df[(df['BMI'] < 100)]\n",
    "df['BMI'] = np.log(df['BMI'])\n",
    "df['BMI'].hist()"
   ]
  },
  {
   "cell_type": "markdown",
   "metadata": {},
   "source": [
    "- Age - drop wrong values and use boxcox"
   ]
  },
  {
   "cell_type": "code",
   "execution_count": 108,
   "metadata": {},
   "outputs": [
    {
     "data": {
      "text/plain": [
       "<matplotlib.axes._subplots.AxesSubplot at 0x7f1d837f0290>"
      ]
     },
     "execution_count": 108,
     "metadata": {},
     "output_type": "execute_result"
    },
    {
     "data": {
      "image/png": "[encoded data removed]",
      "text/plain": [
       "<Figure size 432x288 with 1 Axes>"
      ]
     },
     "metadata": {
      "needs_background": "light"
     },
     "output_type": "display_data"
    }
   ],
   "source": [
    "df = df[(df['Age'] < 100)]\n",
    "df['Age'] = stats.boxcox(df['Age'])[0]\n",
    "df['Age'].hist()"
   ]
  },
  {
   "cell_type": "code",
   "execution_count": 109,
   "metadata": {},
   "outputs": [
    {
     "data": {
      "text/plain": [
       "Index(['Pregnancies', 'Glucose', 'BloodPressure', 'SkinThickness', 'Insulin',\n",
       "       'BMI', 'Age', 'Outcome', 'Continent', 'Pregnancies_cat'],\n",
       "      dtype='object')"
      ]
     },
     "execution_count": 109,
     "metadata": {},
     "output_type": "execute_result"
    }
   ],
   "source": [
    "df.columns"
   ]
  },
  {
   "cell_type": "code",
   "execution_count": 123,
   "metadata": {},
   "outputs": [
    {
     "data": {
      "text/plain": [
       "<matplotlib.axes._subplots.AxesSubplot at 0x7f1d834bc3d0>"
      ]
     },
     "execution_count": 123,
     "metadata": {},
     "output_type": "execute_result"
    },
    {
     "data": {
      "image/png": "[encoded data removed]",
      "text/plain": [
       "<Figure size 432x288 with 1 Axes>"
      ]
     },
     "metadata": {
      "needs_background": "light"
     },
     "output_type": "display_data"
    }
   ],
   "source": [
    "df[df['Insulin'] > -1 ]['Insulin'].hist()"
   ]
  },
  {
   "cell_type": "markdown",
   "metadata": {},
   "source": [
    "- Insulin - impute missing values by randomly chosen values from non-missing observations,  and take logarithm"
   ]
  },
  {
   "cell_type": "code",
   "execution_count": 130,
   "metadata": {},
   "outputs": [],
   "source": [
    "rplcmts = [np.random.choice(df[df['Insulin'] > 0 ]['Insulin'].values, replace=True) for i in range(df.shape[0])]"
   ]
  },
  {
   "cell_type": "code",
   "execution_count": 133,
   "metadata": {},
   "outputs": [
    {
     "data": {
      "text/plain": [
       "<matplotlib.axes._subplots.AxesSubplot at 0x7f1d82c419d0>"
      ]
     },
     "execution_count": 133,
     "metadata": {},
     "output_type": "execute_result"
    },
    {
     "data": {
      "image/png": "[encoded data removed]",
      "text/plain": [
       "<Figure size 432x288 with 1 Axes>"
      ]
     },
     "metadata": {
      "needs_background": "light"
     },
     "output_type": "display_data"
    }
   ],
   "source": [
    "df['rplcmts'] = rplcmts\n",
    "df['Insulin_new'] = np.where(df['Insulin'] == 0,\n",
    "                             df['rplcmts'],\n",
    "                             df['Insulin'])\n",
    "df['Insulin_new'] = np.log(df['Insulin_new'])\n",
    "df['Insulin_new'].hist()"
   ]
  },
  {
   "cell_type": "markdown",
   "metadata": {},
   "source": [
    "## 1.3. Select data"
   ]
  },
  {
   "cell_type": "code",
   "execution_count": 134,
   "metadata": {},
   "outputs": [],
   "source": [
    "X = df[['Glucose', 'BloodPressure', 'SkinThickness', 'Insulin_new',\n",
    "        'BMI', 'Age', 'Pregnancies_cat']]\n",
    "y = df['Outcome']\n",
    "\n",
    "X_train, X_test, y_train, y_test = train_test_split(X, y, test_size=0.3, random_state=42)"
   ]
  },
  {
   "cell_type": "code",
   "execution_count": 64,
   "metadata": {},
   "outputs": [],
   "source": [
    "from sklearn.base import BaseEstimator, TransformerMixin\n",
    "\n",
    "class TypeSelector(BaseEstimator, TransformerMixin):\n",
    "    def __init__(self, dtype):\n",
    "        self.dtype = dtype\n",
    "        \n",
    "    def fit(self, X, y=None):\n",
    "        return self\n",
    "    \n",
    "    def transform(self, X):\n",
    "        assert isinstance(X, pd.DataFrame)\n",
    "        return X.select_dtypes(include=[self.dtype])\n",
    "    \n",
    "class StringIndexer(BaseEstimator, TransformerMixin):\n",
    "    def fit(self, X, y=None):\n",
    "        return self\n",
    "    def transform(self, X):\n",
    "        assert isinstance(X, pd.DataFrame)\n",
    "        return X.apply(lambda s: s.cat.codes.replace(\n",
    "            {-1: len(s.cat.categories)}\n",
    "        ))"
   ]
  },
  {
   "cell_type": "code",
   "execution_count": 65,
   "metadata": {},
   "outputs": [],
   "source": [
    "from sklearn.pipeline import Pipeline, FeatureUnion\n",
    "from sklearn.preprocessing import OneHotEncoder, StandardScaler\n",
    "\n",
    "transformer = Pipeline([\n",
    "    ('features', FeatureUnion(n_jobs=1, transformer_list=[\n",
    "        \n",
    "        # Part 1\n",
    "        ('boolean', Pipeline([\n",
    "            ('selector', TypeSelector('bool')),\n",
    "        ])),  # booleans close\n",
    "        \n",
    "        ('numericals', Pipeline([\n",
    "            ('selector', TypeSelector(np.number)),\n",
    "            ('scaler', StandardScaler()),\n",
    "        ])),  # numericals close\n",
    "        \n",
    "        # Part 2\n",
    "        ('categoricals', Pipeline([\n",
    "            ('selector', TypeSelector('category')),\n",
    "            ('labeler', StringIndexer()),\n",
    "            ('encoder', OneHotEncoder(handle_unknown='ignore')),\n",
    "        ]))  # categoricals close\n",
    "    ])),  # features close\n",
    "])  # pipeline close"
   ]
  },
  {
   "cell_type": "code",
   "execution_count": 49,
   "metadata": {},
   "outputs": [],
   "source": [
    "import warnings\n",
    "\n",
    "warnings.simplefilter('ignore', FutureWarning)"
   ]
  },
  {
   "cell_type": "markdown",
   "metadata": {},
   "source": [
    "# 2. Train models"
   ]
  },
  {
   "cell_type": "code",
   "execution_count": 161,
   "metadata": {},
   "outputs": [],
   "source": [
    "models = [\n",
    "    [('transformer', transformer), ('LogReg', LogisticRegression())],\n",
    "#     [('transformer', transformer), ('RandomForest', RandomForestClassifier())],\n",
    "    [('transformer', transformer),\n",
    "#      ('RFE', RFE(LogisticRegression())),\n",
    "     ('Bagging', BaggingClassifier(DecisionTreeClassifier(), max_features=5,\n",
    "                                   max_samples=0.7,\n",
    "                                   bootstrap=True))],\n",
    "    [('transformer', transformer),\n",
    "#      ('RFE', RFE(LogisticRegression())),\n",
    "     ('SVC', SVC())]\n",
    "]\n",
    "\n",
    "params_grid = [\n",
    "    {'LogReg__C': [0.001, 0.01, 0.1, 1, 10, 100], 'LogReg__penalty': ['l1', 'l2']},\n",
    "#     {},\n",
    "    {'Bagging__n_estimators': [50, 100], \n",
    "     'Bagging__base_estimator__max_depth': [5, 10, 20],\n",
    "     'Bagging__base_estimator__min_samples_leaf': [15, 20]},\n",
    "    [\n",
    "        {'SVC__kernel': ['rbf'],\n",
    "         'SVC__gamma': [1, 1e-1, 1e-2, 5e-2, 15e-2, 1e-3], 'SVC__C': [0.1, 1, 10, 50, 100, 150, 1000]},\n",
    "        {'SVC__kernel': ['poly'],\n",
    "         'SVC__degree': [3], 'SVC__coef0': [-0.1, 0, 0.05, 0.1, 0.15, 0.2, 1], 'SVC__C': [100, 150, 200, 1e3]}\n",
    "    ]\n",
    "]"
   ]
  },
  {
   "cell_type": "code",
   "execution_count": 162,
   "metadata": {},
   "outputs": [],
   "source": [
    "from sklearn.metrics import classification_report, accuracy_score"
   ]
  },
  {
   "cell_type": "code",
   "execution_count": 163,
   "metadata": {},
   "outputs": [
    {
     "name": "stdout",
     "output_type": "stream",
     "text": [
      "Fitting 3 folds for each of 12 candidates, totalling 36 fits\n"
     ]
    },
    {
     "name": "stderr",
     "output_type": "stream",
     "text": [
      "[Parallel(n_jobs=-1)]: Using backend LokyBackend with 2 concurrent workers.\n",
      "[Parallel(n_jobs=-1)]: Done  36 out of  36 | elapsed:    1.2s finished\n",
      "[Parallel(n_jobs=-1)]: Using backend LokyBackend with 2 concurrent workers.\n"
     ]
    },
    {
     "name": "stdout",
     "output_type": "stream",
     "text": [
      "Fitting 3 folds for each of 12 candidates, totalling 36 fits\n"
     ]
    },
    {
     "name": "stderr",
     "output_type": "stream",
     "text": [
      "[Parallel(n_jobs=-1)]: Done  36 out of  36 | elapsed:    6.2s finished\n"
     ]
    },
    {
     "name": "stdout",
     "output_type": "stream",
     "text": [
      "Fitting 3 folds for each of 70 candidates, totalling 210 fits\n"
     ]
    },
    {
     "name": "stderr",
     "output_type": "stream",
     "text": [
      "[Parallel(n_jobs=-1)]: Using backend LokyBackend with 2 concurrent workers.\n",
      "[Parallel(n_jobs=-1)]: Done 172 tasks      | elapsed:    5.8s\n",
      "[Parallel(n_jobs=-1)]: Done 210 out of 210 | elapsed:    9.5s finished\n"
     ]
    }
   ],
   "source": [
    "best_models = []\n",
    "best_results = []\n",
    "for pipe, params in zip(models, params_grid):\n",
    "    pipeline = Pipeline(pipe)\n",
    "    \n",
    "    gs = GridSearchCV(estimator=pipeline,\n",
    "                      param_grid=params,\n",
    "                      cv=3,\n",
    "                      scoring='accuracy',\n",
    "                      verbose=1,\n",
    "                      n_jobs=-1)\n",
    "    gs.fit(X_train, y_train)\n",
    "    best_models.append(gs.best_estimator_)\n",
    "    results = gs.cv_results_\n",
    "    results['test_accuracy'] = accuracy_score(y_test, gs.best_estimator_.predict(X_test))\n",
    "    best_results.append(pd.DataFrame(results))"
   ]
  },
  {
   "cell_type": "markdown",
   "metadata": {},
   "source": [
    "# 3. Best model - Bagging"
   ]
  },
  {
   "cell_type": "code",
   "execution_count": 157,
   "metadata": {},
   "outputs": [
    {
     "data": {
      "text/html": [
       "<div>\n",
       "<style scoped>\n",
       "    .dataframe tbody tr th:only-of-type {\n",
       "        vertical-align: middle;\n",
       "    }\n",
       "\n",
       "    .dataframe tbody tr th {\n",
       "        vertical-align: top;\n",
       "    }\n",
       "\n",
       "    .dataframe thead th {\n",
       "        text-align: right;\n",
       "    }\n",
       "</style>\n",
       "<table border=\"1\" class=\"dataframe\">\n",
       "  <thead>\n",
       "    <tr style=\"text-align: right;\">\n",
       "      <th></th>\n",
       "      <th>rank_test_score</th>\n",
       "      <th>test_accuracy</th>\n",
       "      <th>mean_test_score</th>\n",
       "      <th>params</th>\n",
       "    </tr>\n",
       "  </thead>\n",
       "  <tbody>\n",
       "    <tr>\n",
       "      <td>0</td>\n",
       "      <td>10</td>\n",
       "      <td>0.735683</td>\n",
       "      <td>0.754253</td>\n",
       "      <td>{'Bagging__base_estimator__max_depth': 5, 'Bagging__base_estimator__min_samples_leaf': 15, 'Bagging__n_estimators': 50}</td>\n",
       "    </tr>\n",
       "    <tr>\n",
       "      <td>7</td>\n",
       "      <td>6</td>\n",
       "      <td>0.735683</td>\n",
       "      <td>0.765595</td>\n",
       "      <td>{'Bagging__base_estimator__max_depth': 10, 'Bagging__base_estimator__min_samples_leaf': 20, 'Bagging__n_estimators': 100}</td>\n",
       "    </tr>\n",
       "    <tr>\n",
       "      <td>1</td>\n",
       "      <td>2</td>\n",
       "      <td>0.735683</td>\n",
       "      <td>0.771267</td>\n",
       "      <td>{'Bagging__base_estimator__max_depth': 5, 'Bagging__base_estimator__min_samples_leaf': 15, 'Bagging__n_estimators': 100}</td>\n",
       "    </tr>\n",
       "    <tr>\n",
       "      <td>11</td>\n",
       "      <td>10</td>\n",
       "      <td>0.735683</td>\n",
       "      <td>0.754253</td>\n",
       "      <td>{'Bagging__base_estimator__max_depth': 20, 'Bagging__base_estimator__min_samples_leaf': 20, 'Bagging__n_estimators': 100}</td>\n",
       "    </tr>\n",
       "    <tr>\n",
       "      <td>10</td>\n",
       "      <td>12</td>\n",
       "      <td>0.735683</td>\n",
       "      <td>0.752363</td>\n",
       "      <td>{'Bagging__base_estimator__max_depth': 20, 'Bagging__base_estimator__min_samples_leaf': 20, 'Bagging__n_estimators': 50}</td>\n",
       "    </tr>\n",
       "    <tr>\n",
       "      <td>8</td>\n",
       "      <td>2</td>\n",
       "      <td>0.735683</td>\n",
       "      <td>0.771267</td>\n",
       "      <td>{'Bagging__base_estimator__max_depth': 20, 'Bagging__base_estimator__min_samples_leaf': 15, 'Bagging__n_estimators': 50}</td>\n",
       "    </tr>\n",
       "    <tr>\n",
       "      <td>9</td>\n",
       "      <td>7</td>\n",
       "      <td>0.735683</td>\n",
       "      <td>0.759924</td>\n",
       "      <td>{'Bagging__base_estimator__max_depth': 20, 'Bagging__base_estimator__min_samples_leaf': 15, 'Bagging__n_estimators': 100}</td>\n",
       "    </tr>\n",
       "    <tr>\n",
       "      <td>6</td>\n",
       "      <td>7</td>\n",
       "      <td>0.735683</td>\n",
       "      <td>0.759924</td>\n",
       "      <td>{'Bagging__base_estimator__max_depth': 10, 'Bagging__base_estimator__min_samples_leaf': 20, 'Bagging__n_estimators': 50}</td>\n",
       "    </tr>\n",
       "    <tr>\n",
       "      <td>5</td>\n",
       "      <td>4</td>\n",
       "      <td>0.735683</td>\n",
       "      <td>0.769376</td>\n",
       "      <td>{'Bagging__base_estimator__max_depth': 10, 'Bagging__base_estimator__min_samples_leaf': 15, 'Bagging__n_estimators': 100}</td>\n",
       "    </tr>\n",
       "    <tr>\n",
       "      <td>4</td>\n",
       "      <td>9</td>\n",
       "      <td>0.735683</td>\n",
       "      <td>0.756144</td>\n",
       "      <td>{'Bagging__base_estimator__max_depth': 10, 'Bagging__base_estimator__min_samples_leaf': 15, 'Bagging__n_estimators': 50}</td>\n",
       "    </tr>\n",
       "    <tr>\n",
       "      <td>3</td>\n",
       "      <td>5</td>\n",
       "      <td>0.735683</td>\n",
       "      <td>0.767486</td>\n",
       "      <td>{'Bagging__base_estimator__max_depth': 5, 'Bagging__base_estimator__min_samples_leaf': 20, 'Bagging__n_estimators': 100}</td>\n",
       "    </tr>\n",
       "    <tr>\n",
       "      <td>2</td>\n",
       "      <td>1</td>\n",
       "      <td>0.735683</td>\n",
       "      <td>0.773157</td>\n",
       "      <td>{'Bagging__base_estimator__max_depth': 5, 'Bagging__base_estimator__min_samples_leaf': 20, 'Bagging__n_estimators': 50}</td>\n",
       "    </tr>\n",
       "    <tr>\n",
       "      <td>44</td>\n",
       "      <td>27</td>\n",
       "      <td>0.726872</td>\n",
       "      <td>0.705104</td>\n",
       "      <td>{'SVC__C': 100, 'SVC__coef0': 0.05, 'SVC__degree': 3, 'SVC__kernel': 'poly'}</td>\n",
       "    </tr>\n",
       "    <tr>\n",
       "      <td>50</td>\n",
       "      <td>27</td>\n",
       "      <td>0.726872</td>\n",
       "      <td>0.705104</td>\n",
       "      <td>{'SVC__C': 150, 'SVC__coef0': 0, 'SVC__degree': 3, 'SVC__kernel': 'poly'}</td>\n",
       "    </tr>\n",
       "    <tr>\n",
       "      <td>49</td>\n",
       "      <td>70</td>\n",
       "      <td>0.726872</td>\n",
       "      <td>0.642722</td>\n",
       "      <td>{'SVC__C': 150, 'SVC__coef0': -0.1, 'SVC__degree': 3, 'SVC__kernel': 'poly'}</td>\n",
       "    </tr>\n",
       "    <tr>\n",
       "      <td>48</td>\n",
       "      <td>43</td>\n",
       "      <td>0.726872</td>\n",
       "      <td>0.693762</td>\n",
       "      <td>{'SVC__C': 100, 'SVC__coef0': 1, 'SVC__degree': 3, 'SVC__kernel': 'poly'}</td>\n",
       "    </tr>\n",
       "    <tr>\n",
       "      <td>47</td>\n",
       "      <td>34</td>\n",
       "      <td>0.726872</td>\n",
       "      <td>0.701323</td>\n",
       "      <td>{'SVC__C': 100, 'SVC__coef0': 0.2, 'SVC__degree': 3, 'SVC__kernel': 'poly'}</td>\n",
       "    </tr>\n",
       "    <tr>\n",
       "      <td>46</td>\n",
       "      <td>32</td>\n",
       "      <td>0.726872</td>\n",
       "      <td>0.703214</td>\n",
       "      <td>{'SVC__C': 100, 'SVC__coef0': 0.15, 'SVC__degree': 3, 'SVC__kernel': 'poly'}</td>\n",
       "    </tr>\n",
       "    <tr>\n",
       "      <td>45</td>\n",
       "      <td>36</td>\n",
       "      <td>0.726872</td>\n",
       "      <td>0.699433</td>\n",
       "      <td>{'SVC__C': 100, 'SVC__coef0': 0.1, 'SVC__degree': 3, 'SVC__kernel': 'poly'}</td>\n",
       "    </tr>\n",
       "    <tr>\n",
       "      <td>39</td>\n",
       "      <td>48</td>\n",
       "      <td>0.726872</td>\n",
       "      <td>0.689981</td>\n",
       "      <td>{'SVC__C': 1000, 'SVC__gamma': 0.05, 'SVC__kernel': 'rbf'}</td>\n",
       "    </tr>\n",
       "  </tbody>\n",
       "</table>\n",
       "</div>"
      ],
      "text/plain": [
       "    rank_test_score  test_accuracy  mean_test_score  \\\n",
       "0   10               0.735683       0.754253          \n",
       "7   6                0.735683       0.765595          \n",
       "1   2                0.735683       0.771267          \n",
       "11  10               0.735683       0.754253          \n",
       "10  12               0.735683       0.752363          \n",
       "8   2                0.735683       0.771267          \n",
       "9   7                0.735683       0.759924          \n",
       "6   7                0.735683       0.759924          \n",
       "5   4                0.735683       0.769376          \n",
       "4   9                0.735683       0.756144          \n",
       "3   5                0.735683       0.767486          \n",
       "2   1                0.735683       0.773157          \n",
       "44  27               0.726872       0.705104          \n",
       "50  27               0.726872       0.705104          \n",
       "49  70               0.726872       0.642722          \n",
       "48  43               0.726872       0.693762          \n",
       "47  34               0.726872       0.701323          \n",
       "46  32               0.726872       0.703214          \n",
       "45  36               0.726872       0.699433          \n",
       "39  48               0.726872       0.689981          \n",
       "\n",
       "                                                                                                                       params  \n",
       "0   {'Bagging__base_estimator__max_depth': 5, 'Bagging__base_estimator__min_samples_leaf': 15, 'Bagging__n_estimators': 50}    \n",
       "7   {'Bagging__base_estimator__max_depth': 10, 'Bagging__base_estimator__min_samples_leaf': 20, 'Bagging__n_estimators': 100}  \n",
       "1   {'Bagging__base_estimator__max_depth': 5, 'Bagging__base_estimator__min_samples_leaf': 15, 'Bagging__n_estimators': 100}   \n",
       "11  {'Bagging__base_estimator__max_depth': 20, 'Bagging__base_estimator__min_samples_leaf': 20, 'Bagging__n_estimators': 100}  \n",
       "10  {'Bagging__base_estimator__max_depth': 20, 'Bagging__base_estimator__min_samples_leaf': 20, 'Bagging__n_estimators': 50}   \n",
       "8   {'Bagging__base_estimator__max_depth': 20, 'Bagging__base_estimator__min_samples_leaf': 15, 'Bagging__n_estimators': 50}   \n",
       "9   {'Bagging__base_estimator__max_depth': 20, 'Bagging__base_estimator__min_samples_leaf': 15, 'Bagging__n_estimators': 100}  \n",
       "6   {'Bagging__base_estimator__max_depth': 10, 'Bagging__base_estimator__min_samples_leaf': 20, 'Bagging__n_estimators': 50}   \n",
       "5   {'Bagging__base_estimator__max_depth': 10, 'Bagging__base_estimator__min_samples_leaf': 15, 'Bagging__n_estimators': 100}  \n",
       "4   {'Bagging__base_estimator__max_depth': 10, 'Bagging__base_estimator__min_samples_leaf': 15, 'Bagging__n_estimators': 50}   \n",
       "3   {'Bagging__base_estimator__max_depth': 5, 'Bagging__base_estimator__min_samples_leaf': 20, 'Bagging__n_estimators': 100}   \n",
       "2   {'Bagging__base_estimator__max_depth': 5, 'Bagging__base_estimator__min_samples_leaf': 20, 'Bagging__n_estimators': 50}    \n",
       "44  {'SVC__C': 100, 'SVC__coef0': 0.05, 'SVC__degree': 3, 'SVC__kernel': 'poly'}                                               \n",
       "50  {'SVC__C': 150, 'SVC__coef0': 0, 'SVC__degree': 3, 'SVC__kernel': 'poly'}                                                  \n",
       "49  {'SVC__C': 150, 'SVC__coef0': -0.1, 'SVC__degree': 3, 'SVC__kernel': 'poly'}                                               \n",
       "48  {'SVC__C': 100, 'SVC__coef0': 1, 'SVC__degree': 3, 'SVC__kernel': 'poly'}                                                  \n",
       "47  {'SVC__C': 100, 'SVC__coef0': 0.2, 'SVC__degree': 3, 'SVC__kernel': 'poly'}                                                \n",
       "46  {'SVC__C': 100, 'SVC__coef0': 0.15, 'SVC__degree': 3, 'SVC__kernel': 'poly'}                                               \n",
       "45  {'SVC__C': 100, 'SVC__coef0': 0.1, 'SVC__degree': 3, 'SVC__kernel': 'poly'}                                                \n",
       "39  {'SVC__C': 1000, 'SVC__gamma': 0.05, 'SVC__kernel': 'rbf'}                                                                 "
      ]
     },
     "metadata": {},
     "output_type": "display_data"
    }
   ],
   "source": [
    "pd.set_option('display.max_colwidth', 0)\n",
    "display(pd.concat(best_results)[['rank_test_score', 'test_accuracy', 'mean_test_score',  'params']].sort_values('test_accuracy', ascending=False).head(20))"
   ]
  },
  {
   "cell_type": "code",
   "execution_count": null,
   "metadata": {},
   "outputs": [],
   "source": []
  }
 ],
 "metadata": {
  "kernelspec": {
   "display_name": "Python 3",
   "language": "python",
   "name": "python3"
  },
  "language_info": {
   "codemirror_mode": {
    "name": "ipython",
    "version": 3
   },
   "file_extension": ".py",
   "mimetype": "text/x-python",
   "name": "python",
   "nbconvert_exporter": "python",
   "pygments_lexer": "ipython3",
   "version": "3.6.5"
  }
 },
 "nbformat": 4,
 "nbformat_minor": 4
}
